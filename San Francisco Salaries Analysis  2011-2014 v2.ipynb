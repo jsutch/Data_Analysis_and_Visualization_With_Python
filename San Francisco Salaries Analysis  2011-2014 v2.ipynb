{
 "cells": [
  {
   "cell_type": "code",
   "execution_count": 2,
   "metadata": {},
   "outputs": [],
   "source": [
    "# For data\n",
    "import pandas as pd\n",
    "from pandas import Series,DataFrame\n",
    "import numpy as np\n",
    "\n",
    "# For visualization\n",
    "import matplotlib.pyplot as plt\n",
    "import seaborn as sns\n",
    "sns.set_style('whitegrid')\n",
    "%matplotlib inline\n",
    "# other\n",
    "import re"
   ]
  },
  {
   "cell_type": "code",
   "execution_count": 3,
   "metadata": {},
   "outputs": [],
   "source": [
    "df = pd.read_csv('Salaries.csv')"
   ]
  },
  {
   "cell_type": "code",
   "execution_count": 4,
   "metadata": {},
   "outputs": [
    {
     "name": "stdout",
     "output_type": "stream",
     "text": [
      "<class 'pandas.core.frame.DataFrame'>\n",
      "RangeIndex: 148654 entries, 0 to 148653\n",
      "Data columns (total 13 columns):\n",
      "Id                  148654 non-null int64\n",
      "EmployeeName        148654 non-null object\n",
      "JobTitle            148654 non-null object\n",
      "BasePay             148045 non-null float64\n",
      "OvertimePay         148650 non-null float64\n",
      "OtherPay            148650 non-null float64\n",
      "Benefits            112491 non-null float64\n",
      "TotalPay            148654 non-null float64\n",
      "TotalPayBenefits    148654 non-null float64\n",
      "Year                148654 non-null int64\n",
      "Notes               0 non-null float64\n",
      "Agency              148654 non-null object\n",
      "Status              0 non-null float64\n",
      "dtypes: float64(8), int64(2), object(3)\n",
      "memory usage: 14.7+ MB\n"
     ]
    }
   ],
   "source": [
    "df.info()"
   ]
  },
  {
   "cell_type": "code",
   "execution_count": 5,
   "metadata": {},
   "outputs": [
    {
     "data": {
      "text/html": [
       "<div>\n",
       "<style scoped>\n",
       "    .dataframe tbody tr th:only-of-type {\n",
       "        vertical-align: middle;\n",
       "    }\n",
       "\n",
       "    .dataframe tbody tr th {\n",
       "        vertical-align: top;\n",
       "    }\n",
       "\n",
       "    .dataframe thead th {\n",
       "        text-align: right;\n",
       "    }\n",
       "</style>\n",
       "<table border=\"1\" class=\"dataframe\">\n",
       "  <thead>\n",
       "    <tr style=\"text-align: right;\">\n",
       "      <th></th>\n",
       "      <th>Id</th>\n",
       "      <th>EmployeeName</th>\n",
       "      <th>JobTitle</th>\n",
       "      <th>BasePay</th>\n",
       "      <th>OvertimePay</th>\n",
       "      <th>OtherPay</th>\n",
       "      <th>Benefits</th>\n",
       "      <th>TotalPay</th>\n",
       "      <th>TotalPayBenefits</th>\n",
       "      <th>Year</th>\n",
       "      <th>Notes</th>\n",
       "      <th>Agency</th>\n",
       "      <th>Status</th>\n",
       "    </tr>\n",
       "  </thead>\n",
       "  <tbody>\n",
       "    <tr>\n",
       "      <th>0</th>\n",
       "      <td>1</td>\n",
       "      <td>NATHANIEL FORD</td>\n",
       "      <td>GENERAL MANAGER-METROPOLITAN TRANSIT AUTHORITY</td>\n",
       "      <td>167411.18</td>\n",
       "      <td>0.00</td>\n",
       "      <td>400184.25</td>\n",
       "      <td>NaN</td>\n",
       "      <td>567595.43</td>\n",
       "      <td>567595.43</td>\n",
       "      <td>2011</td>\n",
       "      <td>NaN</td>\n",
       "      <td>San Francisco</td>\n",
       "      <td>NaN</td>\n",
       "    </tr>\n",
       "    <tr>\n",
       "      <th>1</th>\n",
       "      <td>2</td>\n",
       "      <td>GARY JIMENEZ</td>\n",
       "      <td>CAPTAIN III (POLICE DEPARTMENT)</td>\n",
       "      <td>155966.02</td>\n",
       "      <td>245131.88</td>\n",
       "      <td>137811.38</td>\n",
       "      <td>NaN</td>\n",
       "      <td>538909.28</td>\n",
       "      <td>538909.28</td>\n",
       "      <td>2011</td>\n",
       "      <td>NaN</td>\n",
       "      <td>San Francisco</td>\n",
       "      <td>NaN</td>\n",
       "    </tr>\n",
       "    <tr>\n",
       "      <th>2</th>\n",
       "      <td>3</td>\n",
       "      <td>ALBERT PARDINI</td>\n",
       "      <td>CAPTAIN III (POLICE DEPARTMENT)</td>\n",
       "      <td>212739.13</td>\n",
       "      <td>106088.18</td>\n",
       "      <td>16452.60</td>\n",
       "      <td>NaN</td>\n",
       "      <td>335279.91</td>\n",
       "      <td>335279.91</td>\n",
       "      <td>2011</td>\n",
       "      <td>NaN</td>\n",
       "      <td>San Francisco</td>\n",
       "      <td>NaN</td>\n",
       "    </tr>\n",
       "    <tr>\n",
       "      <th>3</th>\n",
       "      <td>4</td>\n",
       "      <td>CHRISTOPHER CHONG</td>\n",
       "      <td>WIRE ROPE CABLE MAINTENANCE MECHANIC</td>\n",
       "      <td>77916.00</td>\n",
       "      <td>56120.71</td>\n",
       "      <td>198306.90</td>\n",
       "      <td>NaN</td>\n",
       "      <td>332343.61</td>\n",
       "      <td>332343.61</td>\n",
       "      <td>2011</td>\n",
       "      <td>NaN</td>\n",
       "      <td>San Francisco</td>\n",
       "      <td>NaN</td>\n",
       "    </tr>\n",
       "    <tr>\n",
       "      <th>4</th>\n",
       "      <td>5</td>\n",
       "      <td>PATRICK GARDNER</td>\n",
       "      <td>DEPUTY CHIEF OF DEPARTMENT,(FIRE DEPARTMENT)</td>\n",
       "      <td>134401.60</td>\n",
       "      <td>9737.00</td>\n",
       "      <td>182234.59</td>\n",
       "      <td>NaN</td>\n",
       "      <td>326373.19</td>\n",
       "      <td>326373.19</td>\n",
       "      <td>2011</td>\n",
       "      <td>NaN</td>\n",
       "      <td>San Francisco</td>\n",
       "      <td>NaN</td>\n",
       "    </tr>\n",
       "  </tbody>\n",
       "</table>\n",
       "</div>"
      ],
      "text/plain": [
       "   Id       EmployeeName                                        JobTitle  \\\n",
       "0   1     NATHANIEL FORD  GENERAL MANAGER-METROPOLITAN TRANSIT AUTHORITY   \n",
       "1   2       GARY JIMENEZ                 CAPTAIN III (POLICE DEPARTMENT)   \n",
       "2   3     ALBERT PARDINI                 CAPTAIN III (POLICE DEPARTMENT)   \n",
       "3   4  CHRISTOPHER CHONG            WIRE ROPE CABLE MAINTENANCE MECHANIC   \n",
       "4   5    PATRICK GARDNER    DEPUTY CHIEF OF DEPARTMENT,(FIRE DEPARTMENT)   \n",
       "\n",
       "     BasePay  OvertimePay   OtherPay  Benefits   TotalPay  TotalPayBenefits  \\\n",
       "0  167411.18         0.00  400184.25       NaN  567595.43         567595.43   \n",
       "1  155966.02    245131.88  137811.38       NaN  538909.28         538909.28   \n",
       "2  212739.13    106088.18   16452.60       NaN  335279.91         335279.91   \n",
       "3   77916.00     56120.71  198306.90       NaN  332343.61         332343.61   \n",
       "4  134401.60      9737.00  182234.59       NaN  326373.19         326373.19   \n",
       "\n",
       "   Year  Notes         Agency  Status  \n",
       "0  2011    NaN  San Francisco     NaN  \n",
       "1  2011    NaN  San Francisco     NaN  \n",
       "2  2011    NaN  San Francisco     NaN  \n",
       "3  2011    NaN  San Francisco     NaN  \n",
       "4  2011    NaN  San Francisco     NaN  "
      ]
     },
     "execution_count": 5,
     "metadata": {},
     "output_type": "execute_result"
    }
   ],
   "source": [
    "df.head()"
   ]
  },
  {
   "cell_type": "code",
   "execution_count": 22,
   "metadata": {},
   "outputs": [
    {
     "data": {
      "text/plain": [
       "Transit Operator                            7036\n",
       "Special Nurse                               4389\n",
       "Registered Nurse                            3736\n",
       "Public Svc Aide-Public Works                2518\n",
       "Police Officer 3                            2421\n",
       "Custodian                                   2418\n",
       "TRANSIT OPERATOR                            2388\n",
       "Firefighter                                 2359\n",
       "Recreation Leader                           1971\n",
       "Patient Care Assistant                      1945\n",
       "Deputy Sheriff                              1933\n",
       "Police Officer                              1476\n",
       "SPECIAL NURSE                               1402\n",
       "Public Service Trainee                      1328\n",
       "REGISTERED NURSE                            1219\n",
       "Police Officer 2                            1141\n",
       "Attorney (Civil/Criminal)                   1126\n",
       "Porter                                      1095\n",
       "Sergeant 3                                  1047\n",
       "General Laborer                             1033\n",
       "EMT/Paramedic/Firefighter                    918\n",
       "Gardener                                     894\n",
       "Parking Control Officer                      868\n",
       "Senior Clerk                                 840\n",
       "Library Page                                 799\n",
       "CUSTODIAN                                    796\n",
       "FIREFIGHTER                                  794\n",
       "POLICE OFFICER III                           779\n",
       "Clerk                                        764\n",
       "Eligibility Worker                           760\n",
       "                                            ... \n",
       "SHELTER OFFICE SUPERVISOR                      1\n",
       "ACUPUNCTURIST                                  1\n",
       "Cashier 3                                      1\n",
       "SPECIAL ASSISTANT XIV                          1\n",
       "STATISTICIAN                                   1\n",
       "MEDIA TRAINING SPECIALIST                      1\n",
       "PIANIST                                        1\n",
       "VICTIM & WITNESS TECHNICIAN                    1\n",
       "POWER HOUSE ELECTRICIAN SUPERVISOR I           1\n",
       "COURT SUPERVISOR I                             1\n",
       "CITY PLANNING GRAPHICS SUPERVISOR              1\n",
       "COMMUNICATIONS DIRECTOR                        1\n",
       "SENIOR PHARMACY HELPER                         1\n",
       "BARBER                                         1\n",
       "TRAFFIC SIGNAL OPERATOR                        1\n",
       "SENIOR MATERIALS AND SUPPLIES SUPERVISOR       1\n",
       "WIRE ROPE CABLE MAINTENANCE SUPERVISOR         1\n",
       "COURT INTERPRETER SUPERVISOR                   1\n",
       "EMERGENCY PROTECTIVE ORDERS COMMISSIONER       1\n",
       "PRINCIPAL MUSEUM PREPARATOR                    1\n",
       "DIRECTOR, PROBATION SERVICES                   1\n",
       "POWER PLANT SUPERVISOR I                       1\n",
       "POWER GENERATION TECHNICIAN I                  1\n",
       "MENTAL HEALTH HEARING OFFICER                  1\n",
       "Managing Attorney                              1\n",
       "CRANE MECHANIC SUPERVISOR                      1\n",
       "SENIOR OPERATIONS MANAGER                      1\n",
       "Lieutenant (Police Department)                 1\n",
       "ELECTRICAL ENGINEERING ASSOCIATE I             1\n",
       "GLAZIER SUPERVISOR I                           1\n",
       "Name: JobTitle, Length: 2159, dtype: int64"
      ]
     },
     "execution_count": 22,
     "metadata": {},
     "output_type": "execute_result"
    }
   ],
   "source": [
    "df['JobTitle'].value_counts()"
   ]
  },
  {
   "cell_type": "code",
   "execution_count": 15,
   "metadata": {},
   "outputs": [
    {
     "data": {
      "text/plain": [
       "(148654,)"
      ]
     },
     "execution_count": 15,
     "metadata": {},
     "output_type": "execute_result"
    }
   ],
   "source": [
    "df['JobTitle'].shape"
   ]
  },
  {
   "cell_type": "code",
   "execution_count": 21,
   "metadata": {},
   "outputs": [],
   "source": [
    "uniquejobs=df['JobTitle'].unique()"
   ]
  },
  {
   "cell_type": "code",
   "execution_count": 13,
   "metadata": {},
   "outputs": [
    {
     "data": {
      "text/plain": [
       "2159"
      ]
     },
     "execution_count": 13,
     "metadata": {},
     "output_type": "execute_result"
    }
   ],
   "source": [
    "len(uniquejobs)"
   ]
  },
  {
   "cell_type": "code",
   "execution_count": 19,
   "metadata": {},
   "outputs": [
    {
     "data": {
      "text/plain": [
       "<matplotlib.axes._subplots.AxesSubplot at 0x11e2e5d10>"
      ]
     },
     "execution_count": 19,
     "metadata": {},
     "output_type": "execute_result"
    },
    {
     "data": {
      "image/png": "[encoded data removed]",
      "text/plain": [
       "<Figure size 432x288 with 1 Axes>"
      ]
     },
     "metadata": {
      "needs_background": "light"
     },
     "output_type": "display_data"
    }
   ],
   "source": [
    "sns.countplot(df['JobTitle'])"
   ]
  },
  {
   "cell_type": "code",
   "execution_count": null,
   "metadata": {},
   "outputs": [],
   "source": []
  },
  {
   "cell_type": "code",
   "execution_count": 7,
   "metadata": {},
   "outputs": [
    {
     "data": {
      "text/plain": [
       "<matplotlib.axes._subplots.AxesSubplot at 0x100e4c550>"
      ]
     },
     "execution_count": 7,
     "metadata": {},
     "output_type": "execute_result"
    },
    {
     "data": {
      "image/png": "[encoded data removed]",
      "text/plain": [
       "<Figure size 432x288 with 1 Axes>"
      ]
     },
     "metadata": {
      "needs_background": "light"
     },
     "output_type": "display_data"
    }
   ],
   "source": [
    "# what was the trend for mean base pay?\n",
    "df.groupby('Year').mean()['BasePay'].plot()"
   ]
  },
  {
   "cell_type": "code",
   "execution_count": 82,
   "metadata": {},
   "outputs": [
    {
     "data": {
      "text/plain": [
       "<matplotlib.axes._subplots.AxesSubplot at 0x126b2e5d0>"
      ]
     },
     "execution_count": 82,
     "metadata": {},
     "output_type": "execute_result"
    },
    {
     "data": {
      "image/png": "[encoded data removed]",
      "text/plain": [
       "<Figure size 432x288 with 1 Axes>"
      ]
     },
     "metadata": {
      "needs_background": "light"
     },
     "output_type": "display_data"
    }
   ],
   "source": [
    "# How about total pay?\n",
    "df.groupby('Year').mean()['TotalPayBenefits'].plot()"
   ]
  },
  {
   "cell_type": "code",
   "execution_count": 94,
   "metadata": {},
   "outputs": [
    {
     "data": {
      "text/plain": [
       "<matplotlib.axes._subplots.AxesSubplot at 0x1296db850>"
      ]
     },
     "execution_count": 94,
     "metadata": {},
     "output_type": "execute_result"
    },
    {
     "data": {
      "image/png": "[encoded data removed]",
      "text/plain": [
       "<Figure size 432x288 with 1 Axes>"
      ]
     },
     "metadata": {
      "needs_background": "light"
     },
     "output_type": "display_data"
    }
   ],
   "source": [
    "# How about median?\n",
    "df.groupby('Year').median()['TotalPayBenefits'].plot()"
   ]
  },
  {
   "cell_type": "code",
   "execution_count": 93,
   "metadata": {},
   "outputs": [
    {
     "data": {
      "text/plain": [
       "<matplotlib.axes._subplots.AxesSubplot at 0x126495ad0>"
      ]
     },
     "execution_count": 93,
     "metadata": {},
     "output_type": "execute_result"
    },
    {
     "data": {
      "image/png": "[encoded data removed]",
      "text/plain": [
       "<Figure size 432x288 with 1 Axes>"
      ]
     },
     "metadata": {
      "needs_background": "light"
     },
     "output_type": "display_data"
    }
   ],
   "source": [
    "# What about Standard Dev?\n",
    "df.groupby('Year').std()['TotalPayBenefits'].plot()"
   ]
  },
  {
   "cell_type": "code",
   "execution_count": 170,
   "metadata": {},
   "outputs": [
    {
     "data": {
      "text/plain": [
       "<matplotlib.axes._subplots.AxesSubplot at 0x13139fb90>"
      ]
     },
     "execution_count": 170,
     "metadata": {},
     "output_type": "execute_result"
    },
    {
     "data": {
      "image/png": "[encoded data removed]",
      "text/plain": [
       "<Figure size 432x288 with 2 Axes>"
      ]
     },
     "metadata": {
      "needs_background": "light"
     },
     "output_type": "display_data"
    }
   ],
   "source": [
    "# Heatmap on Base Pay < 100000 - does it correlate to other types of pay?\n",
    "sns.heatmap(df[df['BasePay']< 100000].corr(),cmap='coolwarm')"
   ]
  },
  {
   "cell_type": "code",
   "execution_count": 178,
   "metadata": {},
   "outputs": [
    {
     "data": {
      "text/plain": [
       "<matplotlib.axes._subplots.AxesSubplot at 0x13069e5d0>"
      ]
     },
     "execution_count": 178,
     "metadata": {},
     "output_type": "execute_result"
    },
    {
     "data": {
      "image/png": "[encoded data removed]",
      "text/plain": [
       "<Figure size 432x288 with 2 Axes>"
      ]
     },
     "metadata": {
      "needs_background": "light"
     },
     "output_type": "display_data"
    }
   ],
   "source": [
    "# Heatmap on Base Pay > 100000 - does it correlate to other types of pay?\n",
    "sns.heatmap(df[df['BasePay']> 100000].corr(),cmap='coolwarm')"
   ]
  },
  {
   "cell_type": "code",
   "execution_count": null,
   "metadata": {},
   "outputs": [],
   "source": []
  },
  {
   "cell_type": "markdown",
   "metadata": {},
   "source": [
    "**Comparing Mean Police to Fire Payment Types**"
   ]
  },
  {
   "cell_type": "code",
   "execution_count": 100,
   "metadata": {},
   "outputs": [
    {
     "data": {
      "text/plain": [
       "<matplotlib.axes._subplots.AxesSubplot at 0x12836cc50>"
      ]
     },
     "execution_count": 100,
     "metadata": {},
     "output_type": "execute_result"
    },
    {
     "data": {
      "image/png": "[encoded data removed]",
      "text/plain": [
       "<Figure size 432x288 with 1 Axes>"
      ]
     },
     "metadata": {
      "needs_background": "light"
     },
     "output_type": "display_data"
    }
   ],
   "source": [
    "df[df['JobTitle'].str.contains('FIRE', flags=re.IGNORECASE, regex=True)].groupby('Year')['BasePay'].mean().plot()"
   ]
  },
  {
   "cell_type": "code",
   "execution_count": 106,
   "metadata": {},
   "outputs": [],
   "source": [
    "# police or fire department\n",
    "def ispolice(title):\n",
    "    if 'police' in title.lower():\n",
    "        return True\n",
    "    else:\n",
    "        return False\n",
    "def isfire(title):\n",
    "    if 'fire' in title.lower():\n",
    "        return True\n",
    "    else:\n",
    "        return False"
   ]
  },
  {
   "cell_type": "code",
   "execution_count": 108,
   "metadata": {},
   "outputs": [],
   "source": [
    "df['Fire'] = df['JobTitle'].apply(lambda x: isfire(x))\n",
    "df['Police'] = df['JobTitle'].apply(lambda x: isfire(x))"
   ]
  },
  {
   "cell_type": "code",
   "execution_count": 116,
   "metadata": {},
   "outputs": [
    {
     "data": {
      "text/plain": [
       "<matplotlib.axes._subplots.AxesSubplot at 0x12967b4d0>"
      ]
     },
     "execution_count": 116,
     "metadata": {},
     "output_type": "execute_result"
    },
    {
     "data": {
      "image/png": "[encoded data removed]",
      "text/plain": [
       "<Figure size 432x288 with 1 Axes>"
      ]
     },
     "metadata": {
      "needs_background": "light"
     },
     "output_type": "display_data"
    }
   ],
   "source": [
    "df[df['Fire']].groupby('Year')['TotalPayBenefits'].mean().plot()"
   ]
  },
  {
   "cell_type": "code",
   "execution_count": 115,
   "metadata": {},
   "outputs": [
    {
     "data": {
      "text/plain": [
       "<matplotlib.axes._subplots.AxesSubplot at 0x12d216a50>"
      ]
     },
     "execution_count": 115,
     "metadata": {},
     "output_type": "execute_result"
    },
    {
     "data": {
      "image/png": "[encoded data removed]",
      "text/plain": [
       "<Figure size 432x288 with 1 Axes>"
      ]
     },
     "metadata": {
      "needs_background": "light"
     },
     "output_type": "display_data"
    }
   ],
   "source": [
    "df[df['Police']].groupby('Year')['TotalPayBenefits'].mean().plot()"
   ]
  },
  {
   "cell_type": "code",
   "execution_count": 124,
   "metadata": {},
   "outputs": [
    {
     "data": {
      "text/plain": [
       "Year\n",
       "2011    145005.665483\n",
       "2012    188965.059496\n",
       "2013    199341.344856\n",
       "2014    188972.082912\n",
       "Name: TotalPayBenefits, dtype: float64"
      ]
     },
     "execution_count": 124,
     "metadata": {},
     "output_type": "execute_result"
    }
   ],
   "source": [
    "df[df['Police']].groupby('Year')['TotalPayBenefits'].mean()"
   ]
  },
  {
   "cell_type": "markdown",
   "metadata": {},
   "source": [
    "Year by year:\n",
    "They correlate so closely that there's not an easy visual difference"
   ]
  },
  {
   "cell_type": "code",
   "execution_count": 180,
   "metadata": {},
   "outputs": [
    {
     "data": {
      "image/png": "[encoded data removed]",
      "text/plain": [
       "<Figure size 1080x360 with 1 Axes>"
      ]
     },
     "metadata": {
      "needs_background": "light"
     },
     "output_type": "display_data"
    }
   ],
   "source": [
    "pay=['BasePay','TotalPayBenefits','OvertimePay','OtherPay']\n",
    "for p in pay:\n",
    "    df[df['Police']].groupby('Year')[p].mean().plot(label='police'+p,figsize=(15,5))\n",
    "    df[df['Fire']].groupby('Year')[p].mean().plot(label='fire'+p,figsize=(15,5))\n",
    "    plt.title(f'Police and Fire Pay Breakdown by Type')\n",
    "    plt.legend(bbox_to_anchor=(1.05, 1), loc=2, borderaxespad=0.)"
   ]
  },
  {
   "cell_type": "markdown",
   "metadata": {},
   "source": [
    "Do Police and Firemen make more money? Yes, they do."
   ]
  },
  {
   "cell_type": "code",
   "execution_count": 137,
   "metadata": {},
   "outputs": [
    {
     "data": {
      "text/html": [
       "<div>\n",
       "<style scoped>\n",
       "    .dataframe tbody tr th:only-of-type {\n",
       "        vertical-align: middle;\n",
       "    }\n",
       "\n",
       "    .dataframe tbody tr th {\n",
       "        vertical-align: top;\n",
       "    }\n",
       "\n",
       "    .dataframe thead th {\n",
       "        text-align: right;\n",
       "    }\n",
       "</style>\n",
       "<table border=\"1\" class=\"dataframe\">\n",
       "  <thead>\n",
       "    <tr style=\"text-align: right;\">\n",
       "      <th></th>\n",
       "      <th>Police</th>\n",
       "      <th>BasePay</th>\n",
       "    </tr>\n",
       "  </thead>\n",
       "  <tbody>\n",
       "    <tr>\n",
       "      <th>Police</th>\n",
       "      <td>1.000000</td>\n",
       "      <td>0.207256</td>\n",
       "    </tr>\n",
       "    <tr>\n",
       "      <th>BasePay</th>\n",
       "      <td>0.207256</td>\n",
       "      <td>1.000000</td>\n",
       "    </tr>\n",
       "  </tbody>\n",
       "</table>\n",
       "</div>"
      ],
      "text/plain": [
       "           Police   BasePay\n",
       "Police   1.000000  0.207256\n",
       "BasePay  0.207256  1.000000"
      ]
     },
     "execution_count": 137,
     "metadata": {},
     "output_type": "execute_result"
    }
   ],
   "source": [
    "df[['Police','BasePay']].corr()"
   ]
  },
  {
   "cell_type": "code",
   "execution_count": 138,
   "metadata": {},
   "outputs": [
    {
     "data": {
      "text/html": [
       "<div>\n",
       "<style scoped>\n",
       "    .dataframe tbody tr th:only-of-type {\n",
       "        vertical-align: middle;\n",
       "    }\n",
       "\n",
       "    .dataframe tbody tr th {\n",
       "        vertical-align: top;\n",
       "    }\n",
       "\n",
       "    .dataframe thead th {\n",
       "        text-align: right;\n",
       "    }\n",
       "</style>\n",
       "<table border=\"1\" class=\"dataframe\">\n",
       "  <thead>\n",
       "    <tr style=\"text-align: right;\">\n",
       "      <th></th>\n",
       "      <th>Fire</th>\n",
       "      <th>BasePay</th>\n",
       "    </tr>\n",
       "  </thead>\n",
       "  <tbody>\n",
       "    <tr>\n",
       "      <th>Fire</th>\n",
       "      <td>1.000000</td>\n",
       "      <td>0.207256</td>\n",
       "    </tr>\n",
       "    <tr>\n",
       "      <th>BasePay</th>\n",
       "      <td>0.207256</td>\n",
       "      <td>1.000000</td>\n",
       "    </tr>\n",
       "  </tbody>\n",
       "</table>\n",
       "</div>"
      ],
      "text/plain": [
       "             Fire   BasePay\n",
       "Fire     1.000000  0.207256\n",
       "BasePay  0.207256  1.000000"
      ]
     },
     "execution_count": 138,
     "metadata": {},
     "output_type": "execute_result"
    }
   ],
   "source": [
    "df[['Fire','BasePay']].corr()"
   ]
  },
  {
   "cell_type": "code",
   "execution_count": 135,
   "metadata": {},
   "outputs": [
    {
     "data": {
      "text/html": [
       "<div>\n",
       "<style scoped>\n",
       "    .dataframe tbody tr th:only-of-type {\n",
       "        vertical-align: middle;\n",
       "    }\n",
       "\n",
       "    .dataframe tbody tr th {\n",
       "        vertical-align: top;\n",
       "    }\n",
       "\n",
       "    .dataframe thead th {\n",
       "        text-align: right;\n",
       "    }\n",
       "</style>\n",
       "<table border=\"1\" class=\"dataframe\">\n",
       "  <thead>\n",
       "    <tr style=\"text-align: right;\">\n",
       "      <th></th>\n",
       "      <th>Police</th>\n",
       "      <th>TotalPayBenefits</th>\n",
       "    </tr>\n",
       "  </thead>\n",
       "  <tbody>\n",
       "    <tr>\n",
       "      <th>Police</th>\n",
       "      <td>1.000000</td>\n",
       "      <td>0.280957</td>\n",
       "    </tr>\n",
       "    <tr>\n",
       "      <th>TotalPayBenefits</th>\n",
       "      <td>0.280957</td>\n",
       "      <td>1.000000</td>\n",
       "    </tr>\n",
       "  </tbody>\n",
       "</table>\n",
       "</div>"
      ],
      "text/plain": [
       "                    Police  TotalPayBenefits\n",
       "Police            1.000000          0.280957\n",
       "TotalPayBenefits  0.280957          1.000000"
      ]
     },
     "execution_count": 135,
     "metadata": {},
     "output_type": "execute_result"
    }
   ],
   "source": [
    "df[['Police','TotalPayBenefits']].corr()"
   ]
  },
  {
   "cell_type": "code",
   "execution_count": 162,
   "metadata": {},
   "outputs": [
    {
     "data": {
      "text/html": [
       "<div>\n",
       "<style scoped>\n",
       "    .dataframe tbody tr th:only-of-type {\n",
       "        vertical-align: middle;\n",
       "    }\n",
       "\n",
       "    .dataframe tbody tr th {\n",
       "        vertical-align: top;\n",
       "    }\n",
       "\n",
       "    .dataframe thead th {\n",
       "        text-align: right;\n",
       "    }\n",
       "</style>\n",
       "<table border=\"1\" class=\"dataframe\">\n",
       "  <thead>\n",
       "    <tr style=\"text-align: right;\">\n",
       "      <th></th>\n",
       "      <th>Fire</th>\n",
       "      <th>TotalPayBenefits</th>\n",
       "    </tr>\n",
       "  </thead>\n",
       "  <tbody>\n",
       "    <tr>\n",
       "      <th>Fire</th>\n",
       "      <td>1.000000</td>\n",
       "      <td>0.280957</td>\n",
       "    </tr>\n",
       "    <tr>\n",
       "      <th>TotalPayBenefits</th>\n",
       "      <td>0.280957</td>\n",
       "      <td>1.000000</td>\n",
       "    </tr>\n",
       "  </tbody>\n",
       "</table>\n",
       "</div>"
      ],
      "text/plain": [
       "                      Fire  TotalPayBenefits\n",
       "Fire              1.000000          0.280957\n",
       "TotalPayBenefits  0.280957          1.000000"
      ]
     },
     "execution_count": 162,
     "metadata": {},
     "output_type": "execute_result"
    }
   ],
   "source": [
    "df[['Fire','TotalPayBenefits']].corr()"
   ]
  },
  {
   "cell_type": "markdown",
   "metadata": {},
   "source": [
    "**Visualizing the correlation**"
   ]
  },
  {
   "cell_type": "code",
   "execution_count": 176,
   "metadata": {},
   "outputs": [
    {
     "data": {
      "text/html": [
       "<style  type=\"text/css\" >\n",
       "    #T_fd8176d0_8b1c_11ea_acc2_186590d99475row0_col0 {\n",
       "            background-color:  #3b4cc0;\n",
       "            color:  #f1f1f1;\n",
       "        }    #T_fd8176d0_8b1c_11ea_acc2_186590d99475row0_col1 {\n",
       "            background-color:  #3b4cc0;\n",
       "            color:  #f1f1f1;\n",
       "        }    #T_fd8176d0_8b1c_11ea_acc2_186590d99475row0_col2 {\n",
       "            background-color:  #3b4cc0;\n",
       "            color:  #f1f1f1;\n",
       "        }    #T_fd8176d0_8b1c_11ea_acc2_186590d99475row0_col3 {\n",
       "            background-color:  #3b4cc0;\n",
       "            color:  #f1f1f1;\n",
       "        }    #T_fd8176d0_8b1c_11ea_acc2_186590d99475row0_col4 {\n",
       "            background-color:  #3b4cc0;\n",
       "            color:  #f1f1f1;\n",
       "        }    #T_fd8176d0_8b1c_11ea_acc2_186590d99475row0_col5 {\n",
       "            background-color:  #3b4cc0;\n",
       "            color:  #f1f1f1;\n",
       "        }    #T_fd8176d0_8b1c_11ea_acc2_186590d99475row0_col6 {\n",
       "            background-color:  #3b4cc0;\n",
       "            color:  #f1f1f1;\n",
       "        }    #T_fd8176d0_8b1c_11ea_acc2_186590d99475row0_col7 {\n",
       "            background-color:  #3b4cc0;\n",
       "            color:  #f1f1f1;\n",
       "        }    #T_fd8176d0_8b1c_11ea_acc2_186590d99475row0_col8 {\n",
       "            background-color:  #3b4cc0;\n",
       "            color:  #f1f1f1;\n",
       "        }    #T_fd8176d0_8b1c_11ea_acc2_186590d99475row0_col9 {\n",
       "            background-color:  #3b4cc0;\n",
       "            color:  #f1f1f1;\n",
       "        }    #T_fd8176d0_8b1c_11ea_acc2_186590d99475row0_col10 {\n",
       "            background-color:  #3b4cc0;\n",
       "            color:  #f1f1f1;\n",
       "        }    #T_fd8176d0_8b1c_11ea_acc2_186590d99475row0_col11 {\n",
       "            background-color:  #3b4cc0;\n",
       "            color:  #f1f1f1;\n",
       "        }    #T_fd8176d0_8b1c_11ea_acc2_186590d99475row0_col12 {\n",
       "            background-color:  #3b4cc0;\n",
       "            color:  #f1f1f1;\n",
       "        }    #T_fd8176d0_8b1c_11ea_acc2_186590d99475row1_col0 {\n",
       "            background-color:  #3b4cc0;\n",
       "            color:  #f1f1f1;\n",
       "        }    #T_fd8176d0_8b1c_11ea_acc2_186590d99475row1_col1 {\n",
       "            background-color:  #3b4cc0;\n",
       "            color:  #f1f1f1;\n",
       "        }    #T_fd8176d0_8b1c_11ea_acc2_186590d99475row1_col2 {\n",
       "            background-color:  #3b4cc0;\n",
       "            color:  #f1f1f1;\n",
       "        }    #T_fd8176d0_8b1c_11ea_acc2_186590d99475row1_col3 {\n",
       "            background-color:  #3b4cc0;\n",
       "            color:  #f1f1f1;\n",
       "        }    #T_fd8176d0_8b1c_11ea_acc2_186590d99475row1_col4 {\n",
       "            background-color:  #3b4cc0;\n",
       "            color:  #f1f1f1;\n",
       "        }    #T_fd8176d0_8b1c_11ea_acc2_186590d99475row1_col5 {\n",
       "            background-color:  #3b4cc0;\n",
       "            color:  #f1f1f1;\n",
       "        }    #T_fd8176d0_8b1c_11ea_acc2_186590d99475row1_col6 {\n",
       "            background-color:  #3b4cc0;\n",
       "            color:  #f1f1f1;\n",
       "        }    #T_fd8176d0_8b1c_11ea_acc2_186590d99475row1_col7 {\n",
       "            background-color:  #3b4cc0;\n",
       "            color:  #f1f1f1;\n",
       "        }    #T_fd8176d0_8b1c_11ea_acc2_186590d99475row1_col8 {\n",
       "            background-color:  #3b4cc0;\n",
       "            color:  #f1f1f1;\n",
       "        }    #T_fd8176d0_8b1c_11ea_acc2_186590d99475row1_col9 {\n",
       "            background-color:  #3b4cc0;\n",
       "            color:  #f1f1f1;\n",
       "        }    #T_fd8176d0_8b1c_11ea_acc2_186590d99475row1_col10 {\n",
       "            background-color:  #3b4cc0;\n",
       "            color:  #f1f1f1;\n",
       "        }    #T_fd8176d0_8b1c_11ea_acc2_186590d99475row1_col11 {\n",
       "            background-color:  #3b4cc0;\n",
       "            color:  #f1f1f1;\n",
       "        }    #T_fd8176d0_8b1c_11ea_acc2_186590d99475row1_col12 {\n",
       "            background-color:  #3b4cc0;\n",
       "            color:  #f1f1f1;\n",
       "        }    #T_fd8176d0_8b1c_11ea_acc2_186590d99475row2_col0 {\n",
       "            background-color:  #3b4cc0;\n",
       "            color:  #f1f1f1;\n",
       "        }    #T_fd8176d0_8b1c_11ea_acc2_186590d99475row2_col1 {\n",
       "            background-color:  #3b4cc0;\n",
       "            color:  #f1f1f1;\n",
       "        }    #T_fd8176d0_8b1c_11ea_acc2_186590d99475row2_col2 {\n",
       "            background-color:  #3b4cc0;\n",
       "            color:  #f1f1f1;\n",
       "        }    #T_fd8176d0_8b1c_11ea_acc2_186590d99475row2_col3 {\n",
       "            background-color:  #3b4cc0;\n",
       "            color:  #f1f1f1;\n",
       "        }    #T_fd8176d0_8b1c_11ea_acc2_186590d99475row2_col4 {\n",
       "            background-color:  #3b4cc0;\n",
       "            color:  #f1f1f1;\n",
       "        }    #T_fd8176d0_8b1c_11ea_acc2_186590d99475row2_col5 {\n",
       "            background-color:  #3b4cc0;\n",
       "            color:  #f1f1f1;\n",
       "        }    #T_fd8176d0_8b1c_11ea_acc2_186590d99475row2_col6 {\n",
       "            background-color:  #3b4cc0;\n",
       "            color:  #f1f1f1;\n",
       "        }    #T_fd8176d0_8b1c_11ea_acc2_186590d99475row2_col7 {\n",
       "            background-color:  #3b4cc0;\n",
       "            color:  #f1f1f1;\n",
       "        }    #T_fd8176d0_8b1c_11ea_acc2_186590d99475row2_col8 {\n",
       "            background-color:  #3b4cc0;\n",
       "            color:  #f1f1f1;\n",
       "        }    #T_fd8176d0_8b1c_11ea_acc2_186590d99475row2_col9 {\n",
       "            background-color:  #3b4cc0;\n",
       "            color:  #f1f1f1;\n",
       "        }    #T_fd8176d0_8b1c_11ea_acc2_186590d99475row2_col10 {\n",
       "            background-color:  #3b4cc0;\n",
       "            color:  #f1f1f1;\n",
       "        }    #T_fd8176d0_8b1c_11ea_acc2_186590d99475row2_col11 {\n",
       "            background-color:  #3b4cc0;\n",
       "            color:  #f1f1f1;\n",
       "        }    #T_fd8176d0_8b1c_11ea_acc2_186590d99475row2_col12 {\n",
       "            background-color:  #3b4cc0;\n",
       "            color:  #f1f1f1;\n",
       "        }    #T_fd8176d0_8b1c_11ea_acc2_186590d99475row3_col0 {\n",
       "            background-color:  #3b4cc0;\n",
       "            color:  #f1f1f1;\n",
       "        }    #T_fd8176d0_8b1c_11ea_acc2_186590d99475row3_col1 {\n",
       "            background-color:  #3b4cc0;\n",
       "            color:  #f1f1f1;\n",
       "        }    #T_fd8176d0_8b1c_11ea_acc2_186590d99475row3_col2 {\n",
       "            background-color:  #3b4cc0;\n",
       "            color:  #f1f1f1;\n",
       "        }    #T_fd8176d0_8b1c_11ea_acc2_186590d99475row3_col3 {\n",
       "            background-color:  #3b4cc0;\n",
       "            color:  #f1f1f1;\n",
       "        }    #T_fd8176d0_8b1c_11ea_acc2_186590d99475row3_col4 {\n",
       "            background-color:  #3b4cc0;\n",
       "            color:  #f1f1f1;\n",
       "        }    #T_fd8176d0_8b1c_11ea_acc2_186590d99475row3_col5 {\n",
       "            background-color:  #3b4cc0;\n",
       "            color:  #f1f1f1;\n",
       "        }    #T_fd8176d0_8b1c_11ea_acc2_186590d99475row3_col6 {\n",
       "            background-color:  #3b4cc0;\n",
       "            color:  #f1f1f1;\n",
       "        }    #T_fd8176d0_8b1c_11ea_acc2_186590d99475row3_col7 {\n",
       "            background-color:  #3b4cc0;\n",
       "            color:  #f1f1f1;\n",
       "        }    #T_fd8176d0_8b1c_11ea_acc2_186590d99475row3_col8 {\n",
       "            background-color:  #3b4cc0;\n",
       "            color:  #f1f1f1;\n",
       "        }    #T_fd8176d0_8b1c_11ea_acc2_186590d99475row3_col9 {\n",
       "            background-color:  #3b4cc0;\n",
       "            color:  #f1f1f1;\n",
       "        }    #T_fd8176d0_8b1c_11ea_acc2_186590d99475row3_col10 {\n",
       "            background-color:  #3b4cc0;\n",
       "            color:  #f1f1f1;\n",
       "        }    #T_fd8176d0_8b1c_11ea_acc2_186590d99475row3_col11 {\n",
       "            background-color:  #3b4cc0;\n",
       "            color:  #f1f1f1;\n",
       "        }    #T_fd8176d0_8b1c_11ea_acc2_186590d99475row3_col12 {\n",
       "            background-color:  #3b4cc0;\n",
       "            color:  #f1f1f1;\n",
       "        }    #T_fd8176d0_8b1c_11ea_acc2_186590d99475row4_col0 {\n",
       "            background-color:  #3b4cc0;\n",
       "            color:  #f1f1f1;\n",
       "        }    #T_fd8176d0_8b1c_11ea_acc2_186590d99475row4_col1 {\n",
       "            background-color:  #3b4cc0;\n",
       "            color:  #f1f1f1;\n",
       "        }    #T_fd8176d0_8b1c_11ea_acc2_186590d99475row4_col2 {\n",
       "            background-color:  #3b4cc0;\n",
       "            color:  #f1f1f1;\n",
       "        }    #T_fd8176d0_8b1c_11ea_acc2_186590d99475row4_col3 {\n",
       "            background-color:  #3b4cc0;\n",
       "            color:  #f1f1f1;\n",
       "        }    #T_fd8176d0_8b1c_11ea_acc2_186590d99475row4_col4 {\n",
       "            background-color:  #3b4cc0;\n",
       "            color:  #f1f1f1;\n",
       "        }    #T_fd8176d0_8b1c_11ea_acc2_186590d99475row4_col5 {\n",
       "            background-color:  #3b4cc0;\n",
       "            color:  #f1f1f1;\n",
       "        }    #T_fd8176d0_8b1c_11ea_acc2_186590d99475row4_col6 {\n",
       "            background-color:  #3b4cc0;\n",
       "            color:  #f1f1f1;\n",
       "        }    #T_fd8176d0_8b1c_11ea_acc2_186590d99475row4_col7 {\n",
       "            background-color:  #3b4cc0;\n",
       "            color:  #f1f1f1;\n",
       "        }    #T_fd8176d0_8b1c_11ea_acc2_186590d99475row4_col8 {\n",
       "            background-color:  #3b4cc0;\n",
       "            color:  #f1f1f1;\n",
       "        }    #T_fd8176d0_8b1c_11ea_acc2_186590d99475row4_col9 {\n",
       "            background-color:  #3b4cc0;\n",
       "            color:  #f1f1f1;\n",
       "        }    #T_fd8176d0_8b1c_11ea_acc2_186590d99475row4_col10 {\n",
       "            background-color:  #3b4cc0;\n",
       "            color:  #f1f1f1;\n",
       "        }    #T_fd8176d0_8b1c_11ea_acc2_186590d99475row4_col11 {\n",
       "            background-color:  #3b4cc0;\n",
       "            color:  #f1f1f1;\n",
       "        }    #T_fd8176d0_8b1c_11ea_acc2_186590d99475row4_col12 {\n",
       "            background-color:  #3b4cc0;\n",
       "            color:  #f1f1f1;\n",
       "        }    #T_fd8176d0_8b1c_11ea_acc2_186590d99475row5_col0 {\n",
       "            background-color:  #3b4cc0;\n",
       "            color:  #f1f1f1;\n",
       "        }    #T_fd8176d0_8b1c_11ea_acc2_186590d99475row5_col1 {\n",
       "            background-color:  #3b4cc0;\n",
       "            color:  #f1f1f1;\n",
       "        }    #T_fd8176d0_8b1c_11ea_acc2_186590d99475row5_col2 {\n",
       "            background-color:  #3b4cc0;\n",
       "            color:  #f1f1f1;\n",
       "        }    #T_fd8176d0_8b1c_11ea_acc2_186590d99475row5_col3 {\n",
       "            background-color:  #3b4cc0;\n",
       "            color:  #f1f1f1;\n",
       "        }    #T_fd8176d0_8b1c_11ea_acc2_186590d99475row5_col4 {\n",
       "            background-color:  #3b4cc0;\n",
       "            color:  #f1f1f1;\n",
       "        }    #T_fd8176d0_8b1c_11ea_acc2_186590d99475row5_col5 {\n",
       "            background-color:  #3b4cc0;\n",
       "            color:  #f1f1f1;\n",
       "        }    #T_fd8176d0_8b1c_11ea_acc2_186590d99475row5_col6 {\n",
       "            background-color:  #3b4cc0;\n",
       "            color:  #f1f1f1;\n",
       "        }    #T_fd8176d0_8b1c_11ea_acc2_186590d99475row5_col7 {\n",
       "            background-color:  #3b4cc0;\n",
       "            color:  #f1f1f1;\n",
       "        }    #T_fd8176d0_8b1c_11ea_acc2_186590d99475row5_col8 {\n",
       "            background-color:  #3b4cc0;\n",
       "            color:  #f1f1f1;\n",
       "        }    #T_fd8176d0_8b1c_11ea_acc2_186590d99475row5_col9 {\n",
       "            background-color:  #3b4cc0;\n",
       "            color:  #f1f1f1;\n",
       "        }    #T_fd8176d0_8b1c_11ea_acc2_186590d99475row5_col10 {\n",
       "            background-color:  #3b4cc0;\n",
       "            color:  #f1f1f1;\n",
       "        }    #T_fd8176d0_8b1c_11ea_acc2_186590d99475row5_col11 {\n",
       "            background-color:  #3b4cc0;\n",
       "            color:  #f1f1f1;\n",
       "        }    #T_fd8176d0_8b1c_11ea_acc2_186590d99475row5_col12 {\n",
       "            background-color:  #3b4cc0;\n",
       "            color:  #f1f1f1;\n",
       "        }    #T_fd8176d0_8b1c_11ea_acc2_186590d99475row6_col0 {\n",
       "            background-color:  #3b4cc0;\n",
       "            color:  #f1f1f1;\n",
       "        }    #T_fd8176d0_8b1c_11ea_acc2_186590d99475row6_col1 {\n",
       "            background-color:  #3b4cc0;\n",
       "            color:  #f1f1f1;\n",
       "        }    #T_fd8176d0_8b1c_11ea_acc2_186590d99475row6_col2 {\n",
       "            background-color:  #3b4cc0;\n",
       "            color:  #f1f1f1;\n",
       "        }    #T_fd8176d0_8b1c_11ea_acc2_186590d99475row6_col3 {\n",
       "            background-color:  #3b4cc0;\n",
       "            color:  #f1f1f1;\n",
       "        }    #T_fd8176d0_8b1c_11ea_acc2_186590d99475row6_col4 {\n",
       "            background-color:  #3b4cc0;\n",
       "            color:  #f1f1f1;\n",
       "        }    #T_fd8176d0_8b1c_11ea_acc2_186590d99475row6_col5 {\n",
       "            background-color:  #3b4cc0;\n",
       "            color:  #f1f1f1;\n",
       "        }    #T_fd8176d0_8b1c_11ea_acc2_186590d99475row6_col6 {\n",
       "            background-color:  #3b4cc0;\n",
       "            color:  #f1f1f1;\n",
       "        }    #T_fd8176d0_8b1c_11ea_acc2_186590d99475row6_col7 {\n",
       "            background-color:  #3b4cc0;\n",
       "            color:  #f1f1f1;\n",
       "        }    #T_fd8176d0_8b1c_11ea_acc2_186590d99475row6_col8 {\n",
       "            background-color:  #3b4cc0;\n",
       "            color:  #f1f1f1;\n",
       "        }    #T_fd8176d0_8b1c_11ea_acc2_186590d99475row6_col9 {\n",
       "            background-color:  #3b4cc0;\n",
       "            color:  #f1f1f1;\n",
       "        }    #T_fd8176d0_8b1c_11ea_acc2_186590d99475row6_col10 {\n",
       "            background-color:  #3b4cc0;\n",
       "            color:  #f1f1f1;\n",
       "        }    #T_fd8176d0_8b1c_11ea_acc2_186590d99475row6_col11 {\n",
       "            background-color:  #3b4cc0;\n",
       "            color:  #f1f1f1;\n",
       "        }    #T_fd8176d0_8b1c_11ea_acc2_186590d99475row6_col12 {\n",
       "            background-color:  #3b4cc0;\n",
       "            color:  #f1f1f1;\n",
       "        }    #T_fd8176d0_8b1c_11ea_acc2_186590d99475row7_col0 {\n",
       "            background-color:  #3b4cc0;\n",
       "            color:  #f1f1f1;\n",
       "        }    #T_fd8176d0_8b1c_11ea_acc2_186590d99475row7_col1 {\n",
       "            background-color:  #3b4cc0;\n",
       "            color:  #f1f1f1;\n",
       "        }    #T_fd8176d0_8b1c_11ea_acc2_186590d99475row7_col2 {\n",
       "            background-color:  #3b4cc0;\n",
       "            color:  #f1f1f1;\n",
       "        }    #T_fd8176d0_8b1c_11ea_acc2_186590d99475row7_col3 {\n",
       "            background-color:  #3b4cc0;\n",
       "            color:  #f1f1f1;\n",
       "        }    #T_fd8176d0_8b1c_11ea_acc2_186590d99475row7_col4 {\n",
       "            background-color:  #3b4cc0;\n",
       "            color:  #f1f1f1;\n",
       "        }    #T_fd8176d0_8b1c_11ea_acc2_186590d99475row7_col5 {\n",
       "            background-color:  #3b4cc0;\n",
       "            color:  #f1f1f1;\n",
       "        }    #T_fd8176d0_8b1c_11ea_acc2_186590d99475row7_col6 {\n",
       "            background-color:  #3b4cc0;\n",
       "            color:  #f1f1f1;\n",
       "        }    #T_fd8176d0_8b1c_11ea_acc2_186590d99475row7_col7 {\n",
       "            background-color:  #3b4cc0;\n",
       "            color:  #f1f1f1;\n",
       "        }    #T_fd8176d0_8b1c_11ea_acc2_186590d99475row7_col8 {\n",
       "            background-color:  #3b4cc0;\n",
       "            color:  #f1f1f1;\n",
       "        }    #T_fd8176d0_8b1c_11ea_acc2_186590d99475row7_col9 {\n",
       "            background-color:  #3b4cc0;\n",
       "            color:  #f1f1f1;\n",
       "        }    #T_fd8176d0_8b1c_11ea_acc2_186590d99475row7_col10 {\n",
       "            background-color:  #3b4cc0;\n",
       "            color:  #f1f1f1;\n",
       "        }    #T_fd8176d0_8b1c_11ea_acc2_186590d99475row7_col11 {\n",
       "            background-color:  #3b4cc0;\n",
       "            color:  #f1f1f1;\n",
       "        }    #T_fd8176d0_8b1c_11ea_acc2_186590d99475row7_col12 {\n",
       "            background-color:  #3b4cc0;\n",
       "            color:  #f1f1f1;\n",
       "        }    #T_fd8176d0_8b1c_11ea_acc2_186590d99475row8_col0 {\n",
       "            background-color:  #3b4cc0;\n",
       "            color:  #f1f1f1;\n",
       "        }    #T_fd8176d0_8b1c_11ea_acc2_186590d99475row8_col1 {\n",
       "            background-color:  #3b4cc0;\n",
       "            color:  #f1f1f1;\n",
       "        }    #T_fd8176d0_8b1c_11ea_acc2_186590d99475row8_col2 {\n",
       "            background-color:  #3b4cc0;\n",
       "            color:  #f1f1f1;\n",
       "        }    #T_fd8176d0_8b1c_11ea_acc2_186590d99475row8_col3 {\n",
       "            background-color:  #3b4cc0;\n",
       "            color:  #f1f1f1;\n",
       "        }    #T_fd8176d0_8b1c_11ea_acc2_186590d99475row8_col4 {\n",
       "            background-color:  #3b4cc0;\n",
       "            color:  #f1f1f1;\n",
       "        }    #T_fd8176d0_8b1c_11ea_acc2_186590d99475row8_col5 {\n",
       "            background-color:  #3b4cc0;\n",
       "            color:  #f1f1f1;\n",
       "        }    #T_fd8176d0_8b1c_11ea_acc2_186590d99475row8_col6 {\n",
       "            background-color:  #3b4cc0;\n",
       "            color:  #f1f1f1;\n",
       "        }    #T_fd8176d0_8b1c_11ea_acc2_186590d99475row8_col7 {\n",
       "            background-color:  #3b4cc0;\n",
       "            color:  #f1f1f1;\n",
       "        }    #T_fd8176d0_8b1c_11ea_acc2_186590d99475row8_col8 {\n",
       "            background-color:  #3b4cc0;\n",
       "            color:  #f1f1f1;\n",
       "        }    #T_fd8176d0_8b1c_11ea_acc2_186590d99475row8_col9 {\n",
       "            background-color:  #3b4cc0;\n",
       "            color:  #f1f1f1;\n",
       "        }    #T_fd8176d0_8b1c_11ea_acc2_186590d99475row8_col10 {\n",
       "            background-color:  #3b4cc0;\n",
       "            color:  #f1f1f1;\n",
       "        }    #T_fd8176d0_8b1c_11ea_acc2_186590d99475row8_col11 {\n",
       "            background-color:  #3b4cc0;\n",
       "            color:  #f1f1f1;\n",
       "        }    #T_fd8176d0_8b1c_11ea_acc2_186590d99475row8_col12 {\n",
       "            background-color:  #3b4cc0;\n",
       "            color:  #f1f1f1;\n",
       "        }    #T_fd8176d0_8b1c_11ea_acc2_186590d99475row9_col0 {\n",
       "            background-color:  #3b4cc0;\n",
       "            color:  #f1f1f1;\n",
       "        }    #T_fd8176d0_8b1c_11ea_acc2_186590d99475row9_col1 {\n",
       "            background-color:  #3b4cc0;\n",
       "            color:  #f1f1f1;\n",
       "        }    #T_fd8176d0_8b1c_11ea_acc2_186590d99475row9_col2 {\n",
       "            background-color:  #3b4cc0;\n",
       "            color:  #f1f1f1;\n",
       "        }    #T_fd8176d0_8b1c_11ea_acc2_186590d99475row9_col3 {\n",
       "            background-color:  #3b4cc0;\n",
       "            color:  #f1f1f1;\n",
       "        }    #T_fd8176d0_8b1c_11ea_acc2_186590d99475row9_col4 {\n",
       "            background-color:  #3b4cc0;\n",
       "            color:  #f1f1f1;\n",
       "        }    #T_fd8176d0_8b1c_11ea_acc2_186590d99475row9_col5 {\n",
       "            background-color:  #3b4cc0;\n",
       "            color:  #f1f1f1;\n",
       "        }    #T_fd8176d0_8b1c_11ea_acc2_186590d99475row9_col6 {\n",
       "            background-color:  #3b4cc0;\n",
       "            color:  #f1f1f1;\n",
       "        }    #T_fd8176d0_8b1c_11ea_acc2_186590d99475row9_col7 {\n",
       "            background-color:  #3b4cc0;\n",
       "            color:  #f1f1f1;\n",
       "        }    #T_fd8176d0_8b1c_11ea_acc2_186590d99475row9_col8 {\n",
       "            background-color:  #3b4cc0;\n",
       "            color:  #f1f1f1;\n",
       "        }    #T_fd8176d0_8b1c_11ea_acc2_186590d99475row9_col9 {\n",
       "            background-color:  #3b4cc0;\n",
       "            color:  #f1f1f1;\n",
       "        }    #T_fd8176d0_8b1c_11ea_acc2_186590d99475row9_col10 {\n",
       "            background-color:  #3b4cc0;\n",
       "            color:  #f1f1f1;\n",
       "        }    #T_fd8176d0_8b1c_11ea_acc2_186590d99475row9_col11 {\n",
       "            background-color:  #3b4cc0;\n",
       "            color:  #f1f1f1;\n",
       "        }    #T_fd8176d0_8b1c_11ea_acc2_186590d99475row9_col12 {\n",
       "            background-color:  #3b4cc0;\n",
       "            color:  #f1f1f1;\n",
       "        }    #T_fd8176d0_8b1c_11ea_acc2_186590d99475row10_col0 {\n",
       "            background-color:  #3b4cc0;\n",
       "            color:  #f1f1f1;\n",
       "        }    #T_fd8176d0_8b1c_11ea_acc2_186590d99475row10_col1 {\n",
       "            background-color:  #3b4cc0;\n",
       "            color:  #f1f1f1;\n",
       "        }    #T_fd8176d0_8b1c_11ea_acc2_186590d99475row10_col2 {\n",
       "            background-color:  #3b4cc0;\n",
       "            color:  #f1f1f1;\n",
       "        }    #T_fd8176d0_8b1c_11ea_acc2_186590d99475row10_col3 {\n",
       "            background-color:  #3b4cc0;\n",
       "            color:  #f1f1f1;\n",
       "        }    #T_fd8176d0_8b1c_11ea_acc2_186590d99475row10_col4 {\n",
       "            background-color:  #3b4cc0;\n",
       "            color:  #f1f1f1;\n",
       "        }    #T_fd8176d0_8b1c_11ea_acc2_186590d99475row10_col5 {\n",
       "            background-color:  #3b4cc0;\n",
       "            color:  #f1f1f1;\n",
       "        }    #T_fd8176d0_8b1c_11ea_acc2_186590d99475row10_col6 {\n",
       "            background-color:  #3b4cc0;\n",
       "            color:  #f1f1f1;\n",
       "        }    #T_fd8176d0_8b1c_11ea_acc2_186590d99475row10_col7 {\n",
       "            background-color:  #3b4cc0;\n",
       "            color:  #f1f1f1;\n",
       "        }    #T_fd8176d0_8b1c_11ea_acc2_186590d99475row10_col8 {\n",
       "            background-color:  #3b4cc0;\n",
       "            color:  #f1f1f1;\n",
       "        }    #T_fd8176d0_8b1c_11ea_acc2_186590d99475row10_col9 {\n",
       "            background-color:  #3b4cc0;\n",
       "            color:  #f1f1f1;\n",
       "        }    #T_fd8176d0_8b1c_11ea_acc2_186590d99475row10_col10 {\n",
       "            background-color:  #3b4cc0;\n",
       "            color:  #f1f1f1;\n",
       "        }    #T_fd8176d0_8b1c_11ea_acc2_186590d99475row10_col11 {\n",
       "            background-color:  #3b4cc0;\n",
       "            color:  #f1f1f1;\n",
       "        }    #T_fd8176d0_8b1c_11ea_acc2_186590d99475row10_col12 {\n",
       "            background-color:  #3b4cc0;\n",
       "            color:  #f1f1f1;\n",
       "        }    #T_fd8176d0_8b1c_11ea_acc2_186590d99475row11_col0 {\n",
       "            background-color:  #3b4cc0;\n",
       "            color:  #f1f1f1;\n",
       "        }    #T_fd8176d0_8b1c_11ea_acc2_186590d99475row11_col1 {\n",
       "            background-color:  #3b4cc0;\n",
       "            color:  #f1f1f1;\n",
       "        }    #T_fd8176d0_8b1c_11ea_acc2_186590d99475row11_col2 {\n",
       "            background-color:  #3b4cc0;\n",
       "            color:  #f1f1f1;\n",
       "        }    #T_fd8176d0_8b1c_11ea_acc2_186590d99475row11_col3 {\n",
       "            background-color:  #3b4cc0;\n",
       "            color:  #f1f1f1;\n",
       "        }    #T_fd8176d0_8b1c_11ea_acc2_186590d99475row11_col4 {\n",
       "            background-color:  #3b4cc0;\n",
       "            color:  #f1f1f1;\n",
       "        }    #T_fd8176d0_8b1c_11ea_acc2_186590d99475row11_col5 {\n",
       "            background-color:  #3b4cc0;\n",
       "            color:  #f1f1f1;\n",
       "        }    #T_fd8176d0_8b1c_11ea_acc2_186590d99475row11_col6 {\n",
       "            background-color:  #3b4cc0;\n",
       "            color:  #f1f1f1;\n",
       "        }    #T_fd8176d0_8b1c_11ea_acc2_186590d99475row11_col7 {\n",
       "            background-color:  #3b4cc0;\n",
       "            color:  #f1f1f1;\n",
       "        }    #T_fd8176d0_8b1c_11ea_acc2_186590d99475row11_col8 {\n",
       "            background-color:  #3b4cc0;\n",
       "            color:  #f1f1f1;\n",
       "        }    #T_fd8176d0_8b1c_11ea_acc2_186590d99475row11_col9 {\n",
       "            background-color:  #3b4cc0;\n",
       "            color:  #f1f1f1;\n",
       "        }    #T_fd8176d0_8b1c_11ea_acc2_186590d99475row11_col10 {\n",
       "            background-color:  #3b4cc0;\n",
       "            color:  #f1f1f1;\n",
       "        }    #T_fd8176d0_8b1c_11ea_acc2_186590d99475row11_col11 {\n",
       "            background-color:  #3b4cc0;\n",
       "            color:  #f1f1f1;\n",
       "        }    #T_fd8176d0_8b1c_11ea_acc2_186590d99475row11_col12 {\n",
       "            background-color:  #3b4cc0;\n",
       "            color:  #f1f1f1;\n",
       "        }    #T_fd8176d0_8b1c_11ea_acc2_186590d99475row12_col0 {\n",
       "            background-color:  #3b4cc0;\n",
       "            color:  #f1f1f1;\n",
       "        }    #T_fd8176d0_8b1c_11ea_acc2_186590d99475row12_col1 {\n",
       "            background-color:  #3b4cc0;\n",
       "            color:  #f1f1f1;\n",
       "        }    #T_fd8176d0_8b1c_11ea_acc2_186590d99475row12_col2 {\n",
       "            background-color:  #3b4cc0;\n",
       "            color:  #f1f1f1;\n",
       "        }    #T_fd8176d0_8b1c_11ea_acc2_186590d99475row12_col3 {\n",
       "            background-color:  #3b4cc0;\n",
       "            color:  #f1f1f1;\n",
       "        }    #T_fd8176d0_8b1c_11ea_acc2_186590d99475row12_col4 {\n",
       "            background-color:  #3b4cc0;\n",
       "            color:  #f1f1f1;\n",
       "        }    #T_fd8176d0_8b1c_11ea_acc2_186590d99475row12_col5 {\n",
       "            background-color:  #3b4cc0;\n",
       "            color:  #f1f1f1;\n",
       "        }    #T_fd8176d0_8b1c_11ea_acc2_186590d99475row12_col6 {\n",
       "            background-color:  #3b4cc0;\n",
       "            color:  #f1f1f1;\n",
       "        }    #T_fd8176d0_8b1c_11ea_acc2_186590d99475row12_col7 {\n",
       "            background-color:  #3b4cc0;\n",
       "            color:  #f1f1f1;\n",
       "        }    #T_fd8176d0_8b1c_11ea_acc2_186590d99475row12_col8 {\n",
       "            background-color:  #3b4cc0;\n",
       "            color:  #f1f1f1;\n",
       "        }    #T_fd8176d0_8b1c_11ea_acc2_186590d99475row12_col9 {\n",
       "            background-color:  #3b4cc0;\n",
       "            color:  #f1f1f1;\n",
       "        }    #T_fd8176d0_8b1c_11ea_acc2_186590d99475row12_col10 {\n",
       "            background-color:  #3b4cc0;\n",
       "            color:  #f1f1f1;\n",
       "        }    #T_fd8176d0_8b1c_11ea_acc2_186590d99475row12_col11 {\n",
       "            background-color:  #3b4cc0;\n",
       "            color:  #f1f1f1;\n",
       "        }    #T_fd8176d0_8b1c_11ea_acc2_186590d99475row12_col12 {\n",
       "            background-color:  #3b4cc0;\n",
       "            color:  #f1f1f1;\n",
       "        }</style><table id=\"T_fd8176d0_8b1c_11ea_acc2_186590d99475\" ><thead>    <tr>        <th class=\"blank level0\" ></th>        <th class=\"col_heading level0 col0\" >Id</th>        <th class=\"col_heading level0 col1\" >BasePay</th>        <th class=\"col_heading level0 col2\" >OvertimePay</th>        <th class=\"col_heading level0 col3\" >OtherPay</th>        <th class=\"col_heading level0 col4\" >Benefits</th>        <th class=\"col_heading level0 col5\" >TotalPay</th>        <th class=\"col_heading level0 col6\" >TotalPayBenefits</th>        <th class=\"col_heading level0 col7\" >Year</th>        <th class=\"col_heading level0 col8\" >Notes</th>        <th class=\"col_heading level0 col9\" >Status</th>        <th class=\"col_heading level0 col10\" >Chief</th>        <th class=\"col_heading level0 col11\" >Fire</th>        <th class=\"col_heading level0 col12\" >Police</th>    </tr></thead><tbody>\n",
       "                <tr>\n",
       "                        <th id=\"T_fd8176d0_8b1c_11ea_acc2_186590d99475level0_row0\" class=\"row_heading level0 row0\" >Id</th>\n",
       "                        <td id=\"T_fd8176d0_8b1c_11ea_acc2_186590d99475row0_col0\" class=\"data row0 col0\" >1</td>\n",
       "                        <td id=\"T_fd8176d0_8b1c_11ea_acc2_186590d99475row0_col1\" class=\"data row0 col1\" >-0.106431</td>\n",
       "                        <td id=\"T_fd8176d0_8b1c_11ea_acc2_186590d99475row0_col2\" class=\"data row0 col2\" >-0.031203</td>\n",
       "                        <td id=\"T_fd8176d0_8b1c_11ea_acc2_186590d99475row0_col3\" class=\"data row0 col3\" >-0.10014</td>\n",
       "                        <td id=\"T_fd8176d0_8b1c_11ea_acc2_186590d99475row0_col4\" class=\"data row0 col4\" >-0.0854225</td>\n",
       "                        <td id=\"T_fd8176d0_8b1c_11ea_acc2_186590d99475row0_col5\" class=\"data row0 col5\" >-0.112141</td>\n",
       "                        <td id=\"T_fd8176d0_8b1c_11ea_acc2_186590d99475row0_col6\" class=\"data row0 col6\" >0.102839</td>\n",
       "                        <td id=\"T_fd8176d0_8b1c_11ea_acc2_186590d99475row0_col7\" class=\"data row0 col7\" >0.984758</td>\n",
       "                        <td id=\"T_fd8176d0_8b1c_11ea_acc2_186590d99475row0_col8\" class=\"data row0 col8\" >nan</td>\n",
       "                        <td id=\"T_fd8176d0_8b1c_11ea_acc2_186590d99475row0_col9\" class=\"data row0 col9\" >nan</td>\n",
       "                        <td id=\"T_fd8176d0_8b1c_11ea_acc2_186590d99475row0_col10\" class=\"data row0 col10\" >-0.0449398</td>\n",
       "                        <td id=\"T_fd8176d0_8b1c_11ea_acc2_186590d99475row0_col11\" class=\"data row0 col11\" >nan</td>\n",
       "                        <td id=\"T_fd8176d0_8b1c_11ea_acc2_186590d99475row0_col12\" class=\"data row0 col12\" >nan</td>\n",
       "            </tr>\n",
       "            <tr>\n",
       "                        <th id=\"T_fd8176d0_8b1c_11ea_acc2_186590d99475level0_row1\" class=\"row_heading level0 row1\" >BasePay</th>\n",
       "                        <td id=\"T_fd8176d0_8b1c_11ea_acc2_186590d99475row1_col0\" class=\"data row1 col0\" >-0.106431</td>\n",
       "                        <td id=\"T_fd8176d0_8b1c_11ea_acc2_186590d99475row1_col1\" class=\"data row1 col1\" >1</td>\n",
       "                        <td id=\"T_fd8176d0_8b1c_11ea_acc2_186590d99475row1_col2\" class=\"data row1 col2\" >0.330401</td>\n",
       "                        <td id=\"T_fd8176d0_8b1c_11ea_acc2_186590d99475row1_col3\" class=\"data row1 col3\" >0.174267</td>\n",
       "                        <td id=\"T_fd8176d0_8b1c_11ea_acc2_186590d99475row1_col4\" class=\"data row1 col4\" >0.941949</td>\n",
       "                        <td id=\"T_fd8176d0_8b1c_11ea_acc2_186590d99475row1_col5\" class=\"data row1 col5\" >0.838164</td>\n",
       "                        <td id=\"T_fd8176d0_8b1c_11ea_acc2_186590d99475row1_col6\" class=\"data row1 col6\" >0.8347</td>\n",
       "                        <td id=\"T_fd8176d0_8b1c_11ea_acc2_186590d99475row1_col7\" class=\"data row1 col7\" >0.0397971</td>\n",
       "                        <td id=\"T_fd8176d0_8b1c_11ea_acc2_186590d99475row1_col8\" class=\"data row1 col8\" >nan</td>\n",
       "                        <td id=\"T_fd8176d0_8b1c_11ea_acc2_186590d99475row1_col9\" class=\"data row1 col9\" >nan</td>\n",
       "                        <td id=\"T_fd8176d0_8b1c_11ea_acc2_186590d99475row1_col10\" class=\"data row1 col10\" >0.276817</td>\n",
       "                        <td id=\"T_fd8176d0_8b1c_11ea_acc2_186590d99475row1_col11\" class=\"data row1 col11\" >nan</td>\n",
       "                        <td id=\"T_fd8176d0_8b1c_11ea_acc2_186590d99475row1_col12\" class=\"data row1 col12\" >nan</td>\n",
       "            </tr>\n",
       "            <tr>\n",
       "                        <th id=\"T_fd8176d0_8b1c_11ea_acc2_186590d99475level0_row2\" class=\"row_heading level0 row2\" >OvertimePay</th>\n",
       "                        <td id=\"T_fd8176d0_8b1c_11ea_acc2_186590d99475row2_col0\" class=\"data row2 col0\" >-0.031203</td>\n",
       "                        <td id=\"T_fd8176d0_8b1c_11ea_acc2_186590d99475row2_col1\" class=\"data row2 col1\" >0.330401</td>\n",
       "                        <td id=\"T_fd8176d0_8b1c_11ea_acc2_186590d99475row2_col2\" class=\"data row2 col2\" >1</td>\n",
       "                        <td id=\"T_fd8176d0_8b1c_11ea_acc2_186590d99475row2_col3\" class=\"data row2 col3\" >0.166446</td>\n",
       "                        <td id=\"T_fd8176d0_8b1c_11ea_acc2_186590d99475row2_col4\" class=\"data row2 col4\" >0.392893</td>\n",
       "                        <td id=\"T_fd8176d0_8b1c_11ea_acc2_186590d99475row2_col5\" class=\"data row2 col5\" >0.746941</td>\n",
       "                        <td id=\"T_fd8176d0_8b1c_11ea_acc2_186590d99475row2_col6\" class=\"data row2 col6\" >0.697949</td>\n",
       "                        <td id=\"T_fd8176d0_8b1c_11ea_acc2_186590d99475row2_col7\" class=\"data row2 col7\" >0.0573193</td>\n",
       "                        <td id=\"T_fd8176d0_8b1c_11ea_acc2_186590d99475row2_col8\" class=\"data row2 col8\" >nan</td>\n",
       "                        <td id=\"T_fd8176d0_8b1c_11ea_acc2_186590d99475row2_col9\" class=\"data row2 col9\" >nan</td>\n",
       "                        <td id=\"T_fd8176d0_8b1c_11ea_acc2_186590d99475row2_col10\" class=\"data row2 col10\" >0.0958116</td>\n",
       "                        <td id=\"T_fd8176d0_8b1c_11ea_acc2_186590d99475row2_col11\" class=\"data row2 col11\" >nan</td>\n",
       "                        <td id=\"T_fd8176d0_8b1c_11ea_acc2_186590d99475row2_col12\" class=\"data row2 col12\" >nan</td>\n",
       "            </tr>\n",
       "            <tr>\n",
       "                        <th id=\"T_fd8176d0_8b1c_11ea_acc2_186590d99475level0_row3\" class=\"row_heading level0 row3\" >OtherPay</th>\n",
       "                        <td id=\"T_fd8176d0_8b1c_11ea_acc2_186590d99475row3_col0\" class=\"data row3 col0\" >-0.10014</td>\n",
       "                        <td id=\"T_fd8176d0_8b1c_11ea_acc2_186590d99475row3_col1\" class=\"data row3 col1\" >0.174267</td>\n",
       "                        <td id=\"T_fd8176d0_8b1c_11ea_acc2_186590d99475row3_col2\" class=\"data row3 col2\" >0.166446</td>\n",
       "                        <td id=\"T_fd8176d0_8b1c_11ea_acc2_186590d99475row3_col3\" class=\"data row3 col3\" >1</td>\n",
       "                        <td id=\"T_fd8176d0_8b1c_11ea_acc2_186590d99475row3_col4\" class=\"data row3 col4\" >0.230898</td>\n",
       "                        <td id=\"T_fd8176d0_8b1c_11ea_acc2_186590d99475row3_col5\" class=\"data row3 col5\" >0.414588</td>\n",
       "                        <td id=\"T_fd8176d0_8b1c_11ea_acc2_186590d99475row3_col6\" class=\"data row3 col6\" >0.358939</td>\n",
       "                        <td id=\"T_fd8176d0_8b1c_11ea_acc2_186590d99475row3_col7\" class=\"data row3 col7\" >-0.0393443</td>\n",
       "                        <td id=\"T_fd8176d0_8b1c_11ea_acc2_186590d99475row3_col8\" class=\"data row3 col8\" >nan</td>\n",
       "                        <td id=\"T_fd8176d0_8b1c_11ea_acc2_186590d99475row3_col9\" class=\"data row3 col9\" >nan</td>\n",
       "                        <td id=\"T_fd8176d0_8b1c_11ea_acc2_186590d99475row3_col10\" class=\"data row3 col10\" >0.233983</td>\n",
       "                        <td id=\"T_fd8176d0_8b1c_11ea_acc2_186590d99475row3_col11\" class=\"data row3 col11\" >nan</td>\n",
       "                        <td id=\"T_fd8176d0_8b1c_11ea_acc2_186590d99475row3_col12\" class=\"data row3 col12\" >nan</td>\n",
       "            </tr>\n",
       "            <tr>\n",
       "                        <th id=\"T_fd8176d0_8b1c_11ea_acc2_186590d99475level0_row4\" class=\"row_heading level0 row4\" >Benefits</th>\n",
       "                        <td id=\"T_fd8176d0_8b1c_11ea_acc2_186590d99475row4_col0\" class=\"data row4 col0\" >-0.0854225</td>\n",
       "                        <td id=\"T_fd8176d0_8b1c_11ea_acc2_186590d99475row4_col1\" class=\"data row4 col1\" >0.941949</td>\n",
       "                        <td id=\"T_fd8176d0_8b1c_11ea_acc2_186590d99475row4_col2\" class=\"data row4 col2\" >0.392893</td>\n",
       "                        <td id=\"T_fd8176d0_8b1c_11ea_acc2_186590d99475row4_col3\" class=\"data row4 col3\" >0.230898</td>\n",
       "                        <td id=\"T_fd8176d0_8b1c_11ea_acc2_186590d99475row4_col4\" class=\"data row4 col4\" >1</td>\n",
       "                        <td id=\"T_fd8176d0_8b1c_11ea_acc2_186590d99475row4_col5\" class=\"data row4 col5\" >0.83938</td>\n",
       "                        <td id=\"T_fd8176d0_8b1c_11ea_acc2_186590d99475row4_col6\" class=\"data row4 col6\" >0.885725</td>\n",
       "                        <td id=\"T_fd8176d0_8b1c_11ea_acc2_186590d99475row4_col7\" class=\"data row4 col7\" >0.142146</td>\n",
       "                        <td id=\"T_fd8176d0_8b1c_11ea_acc2_186590d99475row4_col8\" class=\"data row4 col8\" >nan</td>\n",
       "                        <td id=\"T_fd8176d0_8b1c_11ea_acc2_186590d99475row4_col9\" class=\"data row4 col9\" >nan</td>\n",
       "                        <td id=\"T_fd8176d0_8b1c_11ea_acc2_186590d99475row4_col10\" class=\"data row4 col10\" >0.188839</td>\n",
       "                        <td id=\"T_fd8176d0_8b1c_11ea_acc2_186590d99475row4_col11\" class=\"data row4 col11\" >nan</td>\n",
       "                        <td id=\"T_fd8176d0_8b1c_11ea_acc2_186590d99475row4_col12\" class=\"data row4 col12\" >nan</td>\n",
       "            </tr>\n",
       "            <tr>\n",
       "                        <th id=\"T_fd8176d0_8b1c_11ea_acc2_186590d99475level0_row5\" class=\"row_heading level0 row5\" >TotalPay</th>\n",
       "                        <td id=\"T_fd8176d0_8b1c_11ea_acc2_186590d99475row5_col0\" class=\"data row5 col0\" >-0.112141</td>\n",
       "                        <td id=\"T_fd8176d0_8b1c_11ea_acc2_186590d99475row5_col1\" class=\"data row5 col1\" >0.838164</td>\n",
       "                        <td id=\"T_fd8176d0_8b1c_11ea_acc2_186590d99475row5_col2\" class=\"data row5 col2\" >0.746941</td>\n",
       "                        <td id=\"T_fd8176d0_8b1c_11ea_acc2_186590d99475row5_col3\" class=\"data row5 col3\" >0.414588</td>\n",
       "                        <td id=\"T_fd8176d0_8b1c_11ea_acc2_186590d99475row5_col4\" class=\"data row5 col4\" >0.83938</td>\n",
       "                        <td id=\"T_fd8176d0_8b1c_11ea_acc2_186590d99475row5_col5\" class=\"data row5 col5\" >1</td>\n",
       "                        <td id=\"T_fd8176d0_8b1c_11ea_acc2_186590d99475row5_col6\" class=\"data row5 col6\" >0.961102</td>\n",
       "                        <td id=\"T_fd8176d0_8b1c_11ea_acc2_186590d99475row5_col7\" class=\"data row5 col7\" >0.0412339</td>\n",
       "                        <td id=\"T_fd8176d0_8b1c_11ea_acc2_186590d99475row5_col8\" class=\"data row5 col8\" >nan</td>\n",
       "                        <td id=\"T_fd8176d0_8b1c_11ea_acc2_186590d99475row5_col9\" class=\"data row5 col9\" >nan</td>\n",
       "                        <td id=\"T_fd8176d0_8b1c_11ea_acc2_186590d99475row5_col10\" class=\"data row5 col10\" >0.268238</td>\n",
       "                        <td id=\"T_fd8176d0_8b1c_11ea_acc2_186590d99475row5_col11\" class=\"data row5 col11\" >nan</td>\n",
       "                        <td id=\"T_fd8176d0_8b1c_11ea_acc2_186590d99475row5_col12\" class=\"data row5 col12\" >nan</td>\n",
       "            </tr>\n",
       "            <tr>\n",
       "                        <th id=\"T_fd8176d0_8b1c_11ea_acc2_186590d99475level0_row6\" class=\"row_heading level0 row6\" >TotalPayBenefits</th>\n",
       "                        <td id=\"T_fd8176d0_8b1c_11ea_acc2_186590d99475row6_col0\" class=\"data row6 col0\" >0.102839</td>\n",
       "                        <td id=\"T_fd8176d0_8b1c_11ea_acc2_186590d99475row6_col1\" class=\"data row6 col1\" >0.8347</td>\n",
       "                        <td id=\"T_fd8176d0_8b1c_11ea_acc2_186590d99475row6_col2\" class=\"data row6 col2\" >0.697949</td>\n",
       "                        <td id=\"T_fd8176d0_8b1c_11ea_acc2_186590d99475row6_col3\" class=\"data row6 col3\" >0.358939</td>\n",
       "                        <td id=\"T_fd8176d0_8b1c_11ea_acc2_186590d99475row6_col4\" class=\"data row6 col4\" >0.885725</td>\n",
       "                        <td id=\"T_fd8176d0_8b1c_11ea_acc2_186590d99475row6_col5\" class=\"data row6 col5\" >0.961102</td>\n",
       "                        <td id=\"T_fd8176d0_8b1c_11ea_acc2_186590d99475row6_col6\" class=\"data row6 col6\" >1</td>\n",
       "                        <td id=\"T_fd8176d0_8b1c_11ea_acc2_186590d99475row6_col7\" class=\"data row6 col7\" >0.255388</td>\n",
       "                        <td id=\"T_fd8176d0_8b1c_11ea_acc2_186590d99475row6_col8\" class=\"data row6 col8\" >nan</td>\n",
       "                        <td id=\"T_fd8176d0_8b1c_11ea_acc2_186590d99475row6_col9\" class=\"data row6 col9\" >nan</td>\n",
       "                        <td id=\"T_fd8176d0_8b1c_11ea_acc2_186590d99475row6_col10\" class=\"data row6 col10\" >0.236401</td>\n",
       "                        <td id=\"T_fd8176d0_8b1c_11ea_acc2_186590d99475row6_col11\" class=\"data row6 col11\" >nan</td>\n",
       "                        <td id=\"T_fd8176d0_8b1c_11ea_acc2_186590d99475row6_col12\" class=\"data row6 col12\" >nan</td>\n",
       "            </tr>\n",
       "            <tr>\n",
       "                        <th id=\"T_fd8176d0_8b1c_11ea_acc2_186590d99475level0_row7\" class=\"row_heading level0 row7\" >Year</th>\n",
       "                        <td id=\"T_fd8176d0_8b1c_11ea_acc2_186590d99475row7_col0\" class=\"data row7 col0\" >0.984758</td>\n",
       "                        <td id=\"T_fd8176d0_8b1c_11ea_acc2_186590d99475row7_col1\" class=\"data row7 col1\" >0.0397971</td>\n",
       "                        <td id=\"T_fd8176d0_8b1c_11ea_acc2_186590d99475row7_col2\" class=\"data row7 col2\" >0.0573193</td>\n",
       "                        <td id=\"T_fd8176d0_8b1c_11ea_acc2_186590d99475row7_col3\" class=\"data row7 col3\" >-0.0393443</td>\n",
       "                        <td id=\"T_fd8176d0_8b1c_11ea_acc2_186590d99475row7_col4\" class=\"data row7 col4\" >0.142146</td>\n",
       "                        <td id=\"T_fd8176d0_8b1c_11ea_acc2_186590d99475row7_col5\" class=\"data row7 col5\" >0.0412339</td>\n",
       "                        <td id=\"T_fd8176d0_8b1c_11ea_acc2_186590d99475row7_col6\" class=\"data row7 col6\" >0.255388</td>\n",
       "                        <td id=\"T_fd8176d0_8b1c_11ea_acc2_186590d99475row7_col7\" class=\"data row7 col7\" >1</td>\n",
       "                        <td id=\"T_fd8176d0_8b1c_11ea_acc2_186590d99475row7_col8\" class=\"data row7 col8\" >nan</td>\n",
       "                        <td id=\"T_fd8176d0_8b1c_11ea_acc2_186590d99475row7_col9\" class=\"data row7 col9\" >nan</td>\n",
       "                        <td id=\"T_fd8176d0_8b1c_11ea_acc2_186590d99475row7_col10\" class=\"data row7 col10\" >-0.0309849</td>\n",
       "                        <td id=\"T_fd8176d0_8b1c_11ea_acc2_186590d99475row7_col11\" class=\"data row7 col11\" >nan</td>\n",
       "                        <td id=\"T_fd8176d0_8b1c_11ea_acc2_186590d99475row7_col12\" class=\"data row7 col12\" >nan</td>\n",
       "            </tr>\n",
       "            <tr>\n",
       "                        <th id=\"T_fd8176d0_8b1c_11ea_acc2_186590d99475level0_row8\" class=\"row_heading level0 row8\" >Notes</th>\n",
       "                        <td id=\"T_fd8176d0_8b1c_11ea_acc2_186590d99475row8_col0\" class=\"data row8 col0\" >nan</td>\n",
       "                        <td id=\"T_fd8176d0_8b1c_11ea_acc2_186590d99475row8_col1\" class=\"data row8 col1\" >nan</td>\n",
       "                        <td id=\"T_fd8176d0_8b1c_11ea_acc2_186590d99475row8_col2\" class=\"data row8 col2\" >nan</td>\n",
       "                        <td id=\"T_fd8176d0_8b1c_11ea_acc2_186590d99475row8_col3\" class=\"data row8 col3\" >nan</td>\n",
       "                        <td id=\"T_fd8176d0_8b1c_11ea_acc2_186590d99475row8_col4\" class=\"data row8 col4\" >nan</td>\n",
       "                        <td id=\"T_fd8176d0_8b1c_11ea_acc2_186590d99475row8_col5\" class=\"data row8 col5\" >nan</td>\n",
       "                        <td id=\"T_fd8176d0_8b1c_11ea_acc2_186590d99475row8_col6\" class=\"data row8 col6\" >nan</td>\n",
       "                        <td id=\"T_fd8176d0_8b1c_11ea_acc2_186590d99475row8_col7\" class=\"data row8 col7\" >nan</td>\n",
       "                        <td id=\"T_fd8176d0_8b1c_11ea_acc2_186590d99475row8_col8\" class=\"data row8 col8\" >nan</td>\n",
       "                        <td id=\"T_fd8176d0_8b1c_11ea_acc2_186590d99475row8_col9\" class=\"data row8 col9\" >nan</td>\n",
       "                        <td id=\"T_fd8176d0_8b1c_11ea_acc2_186590d99475row8_col10\" class=\"data row8 col10\" >nan</td>\n",
       "                        <td id=\"T_fd8176d0_8b1c_11ea_acc2_186590d99475row8_col11\" class=\"data row8 col11\" >nan</td>\n",
       "                        <td id=\"T_fd8176d0_8b1c_11ea_acc2_186590d99475row8_col12\" class=\"data row8 col12\" >nan</td>\n",
       "            </tr>\n",
       "            <tr>\n",
       "                        <th id=\"T_fd8176d0_8b1c_11ea_acc2_186590d99475level0_row9\" class=\"row_heading level0 row9\" >Status</th>\n",
       "                        <td id=\"T_fd8176d0_8b1c_11ea_acc2_186590d99475row9_col0\" class=\"data row9 col0\" >nan</td>\n",
       "                        <td id=\"T_fd8176d0_8b1c_11ea_acc2_186590d99475row9_col1\" class=\"data row9 col1\" >nan</td>\n",
       "                        <td id=\"T_fd8176d0_8b1c_11ea_acc2_186590d99475row9_col2\" class=\"data row9 col2\" >nan</td>\n",
       "                        <td id=\"T_fd8176d0_8b1c_11ea_acc2_186590d99475row9_col3\" class=\"data row9 col3\" >nan</td>\n",
       "                        <td id=\"T_fd8176d0_8b1c_11ea_acc2_186590d99475row9_col4\" class=\"data row9 col4\" >nan</td>\n",
       "                        <td id=\"T_fd8176d0_8b1c_11ea_acc2_186590d99475row9_col5\" class=\"data row9 col5\" >nan</td>\n",
       "                        <td id=\"T_fd8176d0_8b1c_11ea_acc2_186590d99475row9_col6\" class=\"data row9 col6\" >nan</td>\n",
       "                        <td id=\"T_fd8176d0_8b1c_11ea_acc2_186590d99475row9_col7\" class=\"data row9 col7\" >nan</td>\n",
       "                        <td id=\"T_fd8176d0_8b1c_11ea_acc2_186590d99475row9_col8\" class=\"data row9 col8\" >nan</td>\n",
       "                        <td id=\"T_fd8176d0_8b1c_11ea_acc2_186590d99475row9_col9\" class=\"data row9 col9\" >nan</td>\n",
       "                        <td id=\"T_fd8176d0_8b1c_11ea_acc2_186590d99475row9_col10\" class=\"data row9 col10\" >nan</td>\n",
       "                        <td id=\"T_fd8176d0_8b1c_11ea_acc2_186590d99475row9_col11\" class=\"data row9 col11\" >nan</td>\n",
       "                        <td id=\"T_fd8176d0_8b1c_11ea_acc2_186590d99475row9_col12\" class=\"data row9 col12\" >nan</td>\n",
       "            </tr>\n",
       "            <tr>\n",
       "                        <th id=\"T_fd8176d0_8b1c_11ea_acc2_186590d99475level0_row10\" class=\"row_heading level0 row10\" >Chief</th>\n",
       "                        <td id=\"T_fd8176d0_8b1c_11ea_acc2_186590d99475row10_col0\" class=\"data row10 col0\" >-0.0449398</td>\n",
       "                        <td id=\"T_fd8176d0_8b1c_11ea_acc2_186590d99475row10_col1\" class=\"data row10 col1\" >0.276817</td>\n",
       "                        <td id=\"T_fd8176d0_8b1c_11ea_acc2_186590d99475row10_col2\" class=\"data row10 col2\" >0.0958116</td>\n",
       "                        <td id=\"T_fd8176d0_8b1c_11ea_acc2_186590d99475row10_col3\" class=\"data row10 col3\" >0.233983</td>\n",
       "                        <td id=\"T_fd8176d0_8b1c_11ea_acc2_186590d99475row10_col4\" class=\"data row10 col4\" >0.188839</td>\n",
       "                        <td id=\"T_fd8176d0_8b1c_11ea_acc2_186590d99475row10_col5\" class=\"data row10 col5\" >0.268238</td>\n",
       "                        <td id=\"T_fd8176d0_8b1c_11ea_acc2_186590d99475row10_col6\" class=\"data row10 col6\" >0.236401</td>\n",
       "                        <td id=\"T_fd8176d0_8b1c_11ea_acc2_186590d99475row10_col7\" class=\"data row10 col7\" >-0.0309849</td>\n",
       "                        <td id=\"T_fd8176d0_8b1c_11ea_acc2_186590d99475row10_col8\" class=\"data row10 col8\" >nan</td>\n",
       "                        <td id=\"T_fd8176d0_8b1c_11ea_acc2_186590d99475row10_col9\" class=\"data row10 col9\" >nan</td>\n",
       "                        <td id=\"T_fd8176d0_8b1c_11ea_acc2_186590d99475row10_col10\" class=\"data row10 col10\" >1</td>\n",
       "                        <td id=\"T_fd8176d0_8b1c_11ea_acc2_186590d99475row10_col11\" class=\"data row10 col11\" >nan</td>\n",
       "                        <td id=\"T_fd8176d0_8b1c_11ea_acc2_186590d99475row10_col12\" class=\"data row10 col12\" >nan</td>\n",
       "            </tr>\n",
       "            <tr>\n",
       "                        <th id=\"T_fd8176d0_8b1c_11ea_acc2_186590d99475level0_row11\" class=\"row_heading level0 row11\" >Fire</th>\n",
       "                        <td id=\"T_fd8176d0_8b1c_11ea_acc2_186590d99475row11_col0\" class=\"data row11 col0\" >nan</td>\n",
       "                        <td id=\"T_fd8176d0_8b1c_11ea_acc2_186590d99475row11_col1\" class=\"data row11 col1\" >nan</td>\n",
       "                        <td id=\"T_fd8176d0_8b1c_11ea_acc2_186590d99475row11_col2\" class=\"data row11 col2\" >nan</td>\n",
       "                        <td id=\"T_fd8176d0_8b1c_11ea_acc2_186590d99475row11_col3\" class=\"data row11 col3\" >nan</td>\n",
       "                        <td id=\"T_fd8176d0_8b1c_11ea_acc2_186590d99475row11_col4\" class=\"data row11 col4\" >nan</td>\n",
       "                        <td id=\"T_fd8176d0_8b1c_11ea_acc2_186590d99475row11_col5\" class=\"data row11 col5\" >nan</td>\n",
       "                        <td id=\"T_fd8176d0_8b1c_11ea_acc2_186590d99475row11_col6\" class=\"data row11 col6\" >nan</td>\n",
       "                        <td id=\"T_fd8176d0_8b1c_11ea_acc2_186590d99475row11_col7\" class=\"data row11 col7\" >nan</td>\n",
       "                        <td id=\"T_fd8176d0_8b1c_11ea_acc2_186590d99475row11_col8\" class=\"data row11 col8\" >nan</td>\n",
       "                        <td id=\"T_fd8176d0_8b1c_11ea_acc2_186590d99475row11_col9\" class=\"data row11 col9\" >nan</td>\n",
       "                        <td id=\"T_fd8176d0_8b1c_11ea_acc2_186590d99475row11_col10\" class=\"data row11 col10\" >nan</td>\n",
       "                        <td id=\"T_fd8176d0_8b1c_11ea_acc2_186590d99475row11_col11\" class=\"data row11 col11\" >nan</td>\n",
       "                        <td id=\"T_fd8176d0_8b1c_11ea_acc2_186590d99475row11_col12\" class=\"data row11 col12\" >nan</td>\n",
       "            </tr>\n",
       "            <tr>\n",
       "                        <th id=\"T_fd8176d0_8b1c_11ea_acc2_186590d99475level0_row12\" class=\"row_heading level0 row12\" >Police</th>\n",
       "                        <td id=\"T_fd8176d0_8b1c_11ea_acc2_186590d99475row12_col0\" class=\"data row12 col0\" >nan</td>\n",
       "                        <td id=\"T_fd8176d0_8b1c_11ea_acc2_186590d99475row12_col1\" class=\"data row12 col1\" >nan</td>\n",
       "                        <td id=\"T_fd8176d0_8b1c_11ea_acc2_186590d99475row12_col2\" class=\"data row12 col2\" >nan</td>\n",
       "                        <td id=\"T_fd8176d0_8b1c_11ea_acc2_186590d99475row12_col3\" class=\"data row12 col3\" >nan</td>\n",
       "                        <td id=\"T_fd8176d0_8b1c_11ea_acc2_186590d99475row12_col4\" class=\"data row12 col4\" >nan</td>\n",
       "                        <td id=\"T_fd8176d0_8b1c_11ea_acc2_186590d99475row12_col5\" class=\"data row12 col5\" >nan</td>\n",
       "                        <td id=\"T_fd8176d0_8b1c_11ea_acc2_186590d99475row12_col6\" class=\"data row12 col6\" >nan</td>\n",
       "                        <td id=\"T_fd8176d0_8b1c_11ea_acc2_186590d99475row12_col7\" class=\"data row12 col7\" >nan</td>\n",
       "                        <td id=\"T_fd8176d0_8b1c_11ea_acc2_186590d99475row12_col8\" class=\"data row12 col8\" >nan</td>\n",
       "                        <td id=\"T_fd8176d0_8b1c_11ea_acc2_186590d99475row12_col9\" class=\"data row12 col9\" >nan</td>\n",
       "                        <td id=\"T_fd8176d0_8b1c_11ea_acc2_186590d99475row12_col10\" class=\"data row12 col10\" >nan</td>\n",
       "                        <td id=\"T_fd8176d0_8b1c_11ea_acc2_186590d99475row12_col11\" class=\"data row12 col11\" >nan</td>\n",
       "                        <td id=\"T_fd8176d0_8b1c_11ea_acc2_186590d99475row12_col12\" class=\"data row12 col12\" >nan</td>\n",
       "            </tr>\n",
       "    </tbody></table>"
      ],
      "text/plain": [
       "<pandas.io.formats.style.Styler at 0x12feb8f50>"
      ]
     },
     "execution_count": 176,
     "metadata": {},
     "output_type": "execute_result"
    }
   ],
   "source": [
    "df[df['Police']].corr().style.background_gradient(cmap='coolwarm')"
   ]
  },
  {
   "cell_type": "code",
   "execution_count": 160,
   "metadata": {},
   "outputs": [
    {
     "data": {
      "text/plain": [
       "<matplotlib.axes._subplots.AxesSubplot at 0x12954a510>"
      ]
     },
     "execution_count": 160,
     "metadata": {},
     "output_type": "execute_result"
    },
    {
     "data": {
      "image/png": "[encoded data removed]",
      "text/plain": [
       "<Figure size 432x288 with 2 Axes>"
      ]
     },
     "metadata": {
      "needs_background": "light"
     },
     "output_type": "display_data"
    }
   ],
   "source": [
    "sns.heatmap(df[df['Police']].corr(),cmap='coolwarm')"
   ]
  },
  {
   "cell_type": "code",
   "execution_count": 161,
   "metadata": {},
   "outputs": [
    {
     "data": {
      "text/plain": [
       "<matplotlib.axes._subplots.AxesSubplot at 0x129543c50>"
      ]
     },
     "execution_count": 161,
     "metadata": {},
     "output_type": "execute_result"
    },
    {
     "data": {
      "image/png": "[encoded data removed]",
      "text/plain": [
       "<Figure size 432x288 with 2 Axes>"
      ]
     },
     "metadata": {
      "needs_background": "light"
     },
     "output_type": "display_data"
    }
   ],
   "source": [
    "sns.heatmap(df[df['Fire']].corr(),cmap='coolwarm')"
   ]
  },
  {
   "cell_type": "markdown",
   "metadata": {},
   "source": [
    "**How does seniority factor in?**"
   ]
  },
  {
   "cell_type": "code",
   "execution_count": 21,
   "metadata": {},
   "outputs": [],
   "source": [
    "def ischief(title):\n",
    "    if 'chief' in title.lower():\n",
    "        return True\n",
    "    else:\n",
    "        return False"
   ]
  },
  {
   "cell_type": "code",
   "execution_count": 26,
   "metadata": {},
   "outputs": [],
   "source": [
    "df['Chief'] = df['JobTitle'].apply(lambda x: chief_string(x))"
   ]
  },
  {
   "cell_type": "code",
   "execution_count": 28,
   "metadata": {},
   "outputs": [
    {
     "data": {
      "text/plain": [
       "False    148027\n",
       "True        627\n",
       "Name: Chief, dtype: int64"
      ]
     },
     "execution_count": 28,
     "metadata": {},
     "output_type": "execute_result"
    }
   ],
   "source": [
    "df['Chief'].value_counts()"
   ]
  },
  {
   "cell_type": "code",
   "execution_count": 18,
   "metadata": {},
   "outputs": [
    {
     "data": {
      "text/plain": [
       "0    167411.18\n",
       "1    155966.02\n",
       "2    212739.13\n",
       "3     77916.00\n",
       "4    134401.60\n",
       "Name: BasePay, dtype: float64"
      ]
     },
     "execution_count": 18,
     "metadata": {},
     "output_type": "execute_result"
    }
   ],
   "source": [
    "df[df['BasePay'] > 1000]['BasePay'].head()"
   ]
  },
  {
   "cell_type": "code",
   "execution_count": 19,
   "metadata": {},
   "outputs": [
    {
     "data": {
      "text/plain": [
       "<matplotlib.axes._subplots.AxesSubplot at 0x11f7dac90>"
      ]
     },
     "execution_count": 19,
     "metadata": {},
     "output_type": "execute_result"
    },
    {
     "data": {
      "image/png": "[encoded data removed]",
      "text/plain": [
       "<Figure size 432x288 with 1 Axes>"
      ]
     },
     "metadata": {
      "needs_background": "light"
     },
     "output_type": "display_data"
    }
   ],
   "source": [
    "sns.distplot(df[df['BasePay'] > 1000]['BasePay'])"
   ]
  },
  {
   "cell_type": "code",
   "execution_count": 36,
   "metadata": {},
   "outputs": [
    {
     "data": {
      "text/plain": [
       "<matplotlib.axes._subplots.AxesSubplot at 0x1250877d0>"
      ]
     },
     "execution_count": 36,
     "metadata": {},
     "output_type": "execute_result"
    },
    {
     "data": {
      "image/png": "[encoded data removed]",
      "text/plain": [
       "<Figure size 432x288 with 1 Axes>"
      ]
     },
     "metadata": {
      "needs_background": "light"
     },
     "output_type": "display_data"
    }
   ],
   "source": [
    "sns.distplot(df[df['Chief']]['BasePay'].dropna(), bins=50, rug=True, kde=True)"
   ]
  },
  {
   "cell_type": "code",
   "execution_count": 41,
   "metadata": {},
   "outputs": [],
   "source": [
    "deprecate=['Clerk','Assistant']"
   ]
  },
  {
   "cell_type": "code",
   "execution_count": 83,
   "metadata": {},
   "outputs": [
    {
     "data": {
      "text/html": [
       "<div>\n",
       "<style scoped>\n",
       "    .dataframe tbody tr th:only-of-type {\n",
       "        vertical-align: middle;\n",
       "    }\n",
       "\n",
       "    .dataframe tbody tr th {\n",
       "        vertical-align: top;\n",
       "    }\n",
       "\n",
       "    .dataframe thead th {\n",
       "        text-align: right;\n",
       "    }\n",
       "</style>\n",
       "<table border=\"1\" class=\"dataframe\">\n",
       "  <thead>\n",
       "    <tr style=\"text-align: right;\">\n",
       "      <th></th>\n",
       "      <th>Id</th>\n",
       "      <th>EmployeeName</th>\n",
       "      <th>JobTitle</th>\n",
       "      <th>BasePay</th>\n",
       "      <th>OvertimePay</th>\n",
       "      <th>OtherPay</th>\n",
       "      <th>Benefits</th>\n",
       "      <th>TotalPay</th>\n",
       "      <th>TotalPayBenefits</th>\n",
       "      <th>Year</th>\n",
       "      <th>Notes</th>\n",
       "      <th>Agency</th>\n",
       "      <th>Status</th>\n",
       "      <th>chief</th>\n",
       "      <th>Chief</th>\n",
       "    </tr>\n",
       "  </thead>\n",
       "  <tbody>\n",
       "    <tr>\n",
       "      <th>36160</th>\n",
       "      <td>36161</td>\n",
       "      <td>Gregory Suhr</td>\n",
       "      <td>Chief of Police</td>\n",
       "      <td>302578.00</td>\n",
       "      <td>0.00</td>\n",
       "      <td>18974.11</td>\n",
       "      <td>69810.19</td>\n",
       "      <td>321552.11</td>\n",
       "      <td>391362.30</td>\n",
       "      <td>2012</td>\n",
       "      <td>NaN</td>\n",
       "      <td>San Francisco</td>\n",
       "      <td>NaN</td>\n",
       "      <td>True</td>\n",
       "      <td>True</td>\n",
       "    </tr>\n",
       "    <tr>\n",
       "      <th>36162</th>\n",
       "      <td>36163</td>\n",
       "      <td>Joanne Hayes-White</td>\n",
       "      <td>Chief, Fire Department</td>\n",
       "      <td>296943.01</td>\n",
       "      <td>0.00</td>\n",
       "      <td>17816.59</td>\n",
       "      <td>72047.88</td>\n",
       "      <td>314759.60</td>\n",
       "      <td>386807.48</td>\n",
       "      <td>2012</td>\n",
       "      <td>NaN</td>\n",
       "      <td>San Francisco</td>\n",
       "      <td>NaN</td>\n",
       "      <td>True</td>\n",
       "      <td>True</td>\n",
       "    </tr>\n",
       "    <tr>\n",
       "      <th>36169</th>\n",
       "      <td>36170</td>\n",
       "      <td>Brendan Ward</td>\n",
       "      <td>Battlion Chief, Fire Suppressi</td>\n",
       "      <td>174822.47</td>\n",
       "      <td>118215.58</td>\n",
       "      <td>28845.78</td>\n",
       "      <td>49648.09</td>\n",
       "      <td>321883.83</td>\n",
       "      <td>371531.92</td>\n",
       "      <td>2012</td>\n",
       "      <td>NaN</td>\n",
       "      <td>San Francisco</td>\n",
       "      <td>NaN</td>\n",
       "      <td>True</td>\n",
       "      <td>True</td>\n",
       "    </tr>\n",
       "  </tbody>\n",
       "</table>\n",
       "</div>"
      ],
      "text/plain": [
       "          Id        EmployeeName                        JobTitle    BasePay  \\\n",
       "36160  36161        Gregory Suhr                 Chief of Police  302578.00   \n",
       "36162  36163  Joanne Hayes-White          Chief, Fire Department  296943.01   \n",
       "36169  36170        Brendan Ward  Battlion Chief, Fire Suppressi  174822.47   \n",
       "\n",
       "       OvertimePay  OtherPay  Benefits   TotalPay  TotalPayBenefits  Year  \\\n",
       "36160         0.00  18974.11  69810.19  321552.11         391362.30  2012   \n",
       "36162         0.00  17816.59  72047.88  314759.60         386807.48  2012   \n",
       "36169    118215.58  28845.78  49648.09  321883.83         371531.92  2012   \n",
       "\n",
       "       Notes         Agency  Status  chief  Chief  \n",
       "36160    NaN  San Francisco     NaN   True   True  \n",
       "36162    NaN  San Francisco     NaN   True   True  \n",
       "36169    NaN  San Francisco     NaN   True   True  "
      ]
     },
     "execution_count": 83,
     "metadata": {},
     "output_type": "execute_result"
    }
   ],
   "source": [
    "df[df['JobTitle'].str.contains('Chief') & ~df['JobTitle'].str.contains('Clerk')].head(3)"
   ]
  },
  {
   "cell_type": "code",
   "execution_count": 84,
   "metadata": {},
   "outputs": [
    {
     "data": {
      "text/html": [
       "<div>\n",
       "<style scoped>\n",
       "    .dataframe tbody tr th:only-of-type {\n",
       "        vertical-align: middle;\n",
       "    }\n",
       "\n",
       "    .dataframe tbody tr th {\n",
       "        vertical-align: top;\n",
       "    }\n",
       "\n",
       "    .dataframe thead th {\n",
       "        text-align: right;\n",
       "    }\n",
       "</style>\n",
       "<table border=\"1\" class=\"dataframe\">\n",
       "  <thead>\n",
       "    <tr style=\"text-align: right;\">\n",
       "      <th></th>\n",
       "      <th>Id</th>\n",
       "      <th>EmployeeName</th>\n",
       "      <th>JobTitle</th>\n",
       "      <th>BasePay</th>\n",
       "      <th>OvertimePay</th>\n",
       "      <th>OtherPay</th>\n",
       "      <th>Benefits</th>\n",
       "      <th>TotalPay</th>\n",
       "      <th>TotalPayBenefits</th>\n",
       "      <th>Year</th>\n",
       "      <th>Notes</th>\n",
       "      <th>Agency</th>\n",
       "      <th>Status</th>\n",
       "      <th>chief</th>\n",
       "      <th>Chief</th>\n",
       "    </tr>\n",
       "  </thead>\n",
       "  <tbody>\n",
       "    <tr>\n",
       "      <th>4</th>\n",
       "      <td>5</td>\n",
       "      <td>PATRICK GARDNER</td>\n",
       "      <td>DEPUTY CHIEF OF DEPARTMENT,(FIRE DEPARTMENT)</td>\n",
       "      <td>134401.60</td>\n",
       "      <td>9737.0</td>\n",
       "      <td>182234.59</td>\n",
       "      <td>NaN</td>\n",
       "      <td>326373.19</td>\n",
       "      <td>326373.19</td>\n",
       "      <td>2011</td>\n",
       "      <td>NaN</td>\n",
       "      <td>San Francisco</td>\n",
       "      <td>NaN</td>\n",
       "      <td>True</td>\n",
       "      <td>True</td>\n",
       "    </tr>\n",
       "    <tr>\n",
       "      <th>5</th>\n",
       "      <td>6</td>\n",
       "      <td>DAVID SULLIVAN</td>\n",
       "      <td>ASSISTANT DEPUTY CHIEF II</td>\n",
       "      <td>118602.00</td>\n",
       "      <td>8601.0</td>\n",
       "      <td>189082.74</td>\n",
       "      <td>NaN</td>\n",
       "      <td>316285.74</td>\n",
       "      <td>316285.74</td>\n",
       "      <td>2011</td>\n",
       "      <td>NaN</td>\n",
       "      <td>San Francisco</td>\n",
       "      <td>NaN</td>\n",
       "      <td>True</td>\n",
       "      <td>True</td>\n",
       "    </tr>\n",
       "    <tr>\n",
       "      <th>6</th>\n",
       "      <td>7</td>\n",
       "      <td>ALSON LEE</td>\n",
       "      <td>BATTALION CHIEF, (FIRE DEPARTMENT)</td>\n",
       "      <td>92492.01</td>\n",
       "      <td>89062.9</td>\n",
       "      <td>134426.14</td>\n",
       "      <td>NaN</td>\n",
       "      <td>315981.05</td>\n",
       "      <td>315981.05</td>\n",
       "      <td>2011</td>\n",
       "      <td>NaN</td>\n",
       "      <td>San Francisco</td>\n",
       "      <td>NaN</td>\n",
       "      <td>True</td>\n",
       "      <td>True</td>\n",
       "    </tr>\n",
       "  </tbody>\n",
       "</table>\n",
       "</div>"
      ],
      "text/plain": [
       "   Id     EmployeeName                                      JobTitle  \\\n",
       "4   5  PATRICK GARDNER  DEPUTY CHIEF OF DEPARTMENT,(FIRE DEPARTMENT)   \n",
       "5   6   DAVID SULLIVAN                     ASSISTANT DEPUTY CHIEF II   \n",
       "6   7        ALSON LEE            BATTALION CHIEF, (FIRE DEPARTMENT)   \n",
       "\n",
       "     BasePay  OvertimePay   OtherPay  Benefits   TotalPay  TotalPayBenefits  \\\n",
       "4  134401.60       9737.0  182234.59       NaN  326373.19         326373.19   \n",
       "5  118602.00       8601.0  189082.74       NaN  316285.74         316285.74   \n",
       "6   92492.01      89062.9  134426.14       NaN  315981.05         315981.05   \n",
       "\n",
       "   Year  Notes         Agency  Status  chief  Chief  \n",
       "4  2011    NaN  San Francisco     NaN   True   True  \n",
       "5  2011    NaN  San Francisco     NaN   True   True  \n",
       "6  2011    NaN  San Francisco     NaN   True   True  "
      ]
     },
     "execution_count": 84,
     "metadata": {},
     "output_type": "execute_result"
    }
   ],
   "source": [
    "df[~df['JobTitle'].isin(deprecate) & df['Chief']].head(3)"
   ]
  },
  {
   "cell_type": "code",
   "execution_count": 43,
   "metadata": {},
   "outputs": [],
   "source": [
    "services = ['FIRE','POLICE']"
   ]
  },
  {
   "cell_type": "code",
   "execution_count": 56,
   "metadata": {},
   "outputs": [
    {
     "data": {
      "text/plain": [
       "(5879, 15)"
      ]
     },
     "execution_count": 56,
     "metadata": {},
     "output_type": "execute_result"
    }
   ],
   "source": [
    "df[df['JobTitle'].str.contains('FIRE', flags=re.IGNORECASE, regex=True)].shape"
   ]
  },
  {
   "cell_type": "markdown",
   "metadata": {},
   "source": [
    "**How does BasePay compare between Police and Firemen?**"
   ]
  },
  {
   "cell_type": "code",
   "execution_count": 67,
   "metadata": {},
   "outputs": [
    {
     "data": {
      "text/plain": [
       "<matplotlib.axes._subplots.AxesSubplot at 0x12b622490>"
      ]
     },
     "execution_count": 67,
     "metadata": {},
     "output_type": "execute_result"
    },
    {
     "data": {
      "image/png": "[encoded data removed]",
      "text/plain": [
       "<Figure size 432x288 with 1 Axes>"
      ]
     },
     "metadata": {
      "needs_background": "light"
     },
     "output_type": "display_data"
    }
   ],
   "source": [
    "sns.distplot(df[df['JobTitle'].str.contains('FIRE', flags=re.IGNORECASE, regex=True)]['BasePay'].dropna())"
   ]
  },
  {
   "cell_type": "code",
   "execution_count": 74,
   "metadata": {},
   "outputs": [
    {
     "data": {
      "text/plain": [
       "<matplotlib.axes._subplots.AxesSubplot at 0x12bf16950>"
      ]
     },
     "execution_count": 74,
     "metadata": {},
     "output_type": "execute_result"
    },
    {
     "data": {
      "image/png": "[encoded data removed]",
      "text/plain": [
       "<Figure size 432x288 with 1 Axes>"
      ]
     },
     "metadata": {
      "needs_background": "light"
     },
     "output_type": "display_data"
    }
   ],
   "source": [
    "sns.distplot(df[df['JobTitle'].str.contains('POLICE', flags=re.IGNORECASE, regex=True)]['BasePay'].dropna())"
   ]
  },
  {
   "cell_type": "markdown",
   "metadata": {},
   "source": [
    "**How about TotalPay?**"
   ]
  },
  {
   "cell_type": "code",
   "execution_count": 77,
   "metadata": {},
   "outputs": [
    {
     "data": {
      "text/plain": [
       "<matplotlib.axes._subplots.AxesSubplot at 0x11fc3bc50>"
      ]
     },
     "execution_count": 77,
     "metadata": {},
     "output_type": "execute_result"
    },
    {
     "data": {
      "image/png": "[encoded data removed]",
      "text/plain": [
       "<Figure size 432x288 with 1 Axes>"
      ]
     },
     "metadata": {
      "needs_background": "light"
     },
     "output_type": "display_data"
    }
   ],
   "source": [
    "plt.xticks(rotation=45, ha='right')\n",
    "sns.distplot(df[df['JobTitle'].str.contains('FIRE', flags=re.IGNORECASE, regex=True)]['TotalPayBenefits'].dropna(), bins=50, rug=True)"
   ]
  },
  {
   "cell_type": "code",
   "execution_count": 76,
   "metadata": {},
   "outputs": [
    {
     "data": {
      "text/plain": [
       "<matplotlib.axes._subplots.AxesSubplot at 0x11fb7b3d0>"
      ]
     },
     "execution_count": 76,
     "metadata": {},
     "output_type": "execute_result"
    },
    {
     "data": {
      "image/png": "[encoded data removed]",
      "text/plain": [
       "<Figure size 432x288 with 1 Axes>"
      ]
     },
     "metadata": {
      "needs_background": "light"
     },
     "output_type": "display_data"
    }
   ],
   "source": [
    "plt.xticks(rotation=45, ha='right')\n",
    "sns.distplot(df[df['JobTitle'].str.contains('POLICE', flags=re.IGNORECASE, regex=True)]['TotalPayBenefits'].dropna(), bins=50, rug=True)"
   ]
  },
  {
   "cell_type": "code",
   "execution_count": 79,
   "metadata": {},
   "outputs": [],
   "source": [
    "policepay = df[df['JobTitle'].str.contains('POLICE', flags=re.IGNORECASE, regex=True)]['TotalPayBenefits'].copy()"
   ]
  },
  {
   "cell_type": "code",
   "execution_count": 80,
   "metadata": {},
   "outputs": [],
   "source": [
    "firepay = df[df['JobTitle'].str.contains('FIRE', flags=re.IGNORECASE, regex=True)]['TotalPayBenefits'].dropna()"
   ]
  },
  {
   "cell_type": "code",
   "execution_count": 81,
   "metadata": {},
   "outputs": [
    {
     "data": {
      "text/html": [
       "<div>\n",
       "<style scoped>\n",
       "    .dataframe tbody tr th:only-of-type {\n",
       "        vertical-align: middle;\n",
       "    }\n",
       "\n",
       "    .dataframe tbody tr th {\n",
       "        vertical-align: top;\n",
       "    }\n",
       "\n",
       "    .dataframe thead th {\n",
       "        text-align: right;\n",
       "    }\n",
       "</style>\n",
       "<table border=\"1\" class=\"dataframe\">\n",
       "  <thead>\n",
       "    <tr style=\"text-align: right;\">\n",
       "      <th></th>\n",
       "      <th>Chief</th>\n",
       "      <th>TotalPayBenefits</th>\n",
       "    </tr>\n",
       "  </thead>\n",
       "  <tbody>\n",
       "    <tr>\n",
       "      <th>Chief</th>\n",
       "      <td>1.000000</td>\n",
       "      <td>0.108508</td>\n",
       "    </tr>\n",
       "    <tr>\n",
       "      <th>TotalPayBenefits</th>\n",
       "      <td>0.108508</td>\n",
       "      <td>1.000000</td>\n",
       "    </tr>\n",
       "  </tbody>\n",
       "</table>\n",
       "</div>"
      ],
      "text/plain": [
       "                     Chief  TotalPayBenefits\n",
       "Chief             1.000000          0.108508\n",
       "TotalPayBenefits  0.108508          1.000000"
      ]
     },
     "execution_count": 81,
     "metadata": {},
     "output_type": "execute_result"
    }
   ],
   "source": [
    "# Is there a correlation between being a chief and making more money?\n",
    "df[['Chief','TotalPayBenefits']].corr()"
   ]
  },
  {
   "cell_type": "code",
   "execution_count": 149,
   "metadata": {},
   "outputs": [],
   "source": [
    "df.drop(['chief'],inplace=True, axis=1)"
   ]
  },
  {
   "cell_type": "code",
   "execution_count": 156,
   "metadata": {},
   "outputs": [
    {
     "data": {
      "text/html": [
       "<style  type=\"text/css\" >\n",
       "    #T_f4ae3450_8b1a_11ea_acc2_186590d99475row0_col0 {\n",
       "            background-color:  #3b4cc0;\n",
       "            color:  #f1f1f1;\n",
       "        }    #T_f4ae3450_8b1a_11ea_acc2_186590d99475row0_col1 {\n",
       "            background-color:  #3b4cc0;\n",
       "            color:  #f1f1f1;\n",
       "        }    #T_f4ae3450_8b1a_11ea_acc2_186590d99475row0_col2 {\n",
       "            background-color:  #3b4cc0;\n",
       "            color:  #f1f1f1;\n",
       "        }    #T_f4ae3450_8b1a_11ea_acc2_186590d99475row0_col3 {\n",
       "            background-color:  #3b4cc0;\n",
       "            color:  #f1f1f1;\n",
       "        }    #T_f4ae3450_8b1a_11ea_acc2_186590d99475row0_col4 {\n",
       "            background-color:  #3b4cc0;\n",
       "            color:  #f1f1f1;\n",
       "        }    #T_f4ae3450_8b1a_11ea_acc2_186590d99475row0_col5 {\n",
       "            background-color:  #3b4cc0;\n",
       "            color:  #f1f1f1;\n",
       "        }    #T_f4ae3450_8b1a_11ea_acc2_186590d99475row0_col6 {\n",
       "            background-color:  #3b4cc0;\n",
       "            color:  #f1f1f1;\n",
       "        }    #T_f4ae3450_8b1a_11ea_acc2_186590d99475row0_col7 {\n",
       "            background-color:  #3b4cc0;\n",
       "            color:  #f1f1f1;\n",
       "        }    #T_f4ae3450_8b1a_11ea_acc2_186590d99475row0_col8 {\n",
       "            background-color:  #3b4cc0;\n",
       "            color:  #f1f1f1;\n",
       "        }    #T_f4ae3450_8b1a_11ea_acc2_186590d99475row0_col9 {\n",
       "            background-color:  #3b4cc0;\n",
       "            color:  #f1f1f1;\n",
       "        }    #T_f4ae3450_8b1a_11ea_acc2_186590d99475row0_col10 {\n",
       "            background-color:  #3b4cc0;\n",
       "            color:  #f1f1f1;\n",
       "        }    #T_f4ae3450_8b1a_11ea_acc2_186590d99475row0_col11 {\n",
       "            background-color:  #3b4cc0;\n",
       "            color:  #f1f1f1;\n",
       "        }    #T_f4ae3450_8b1a_11ea_acc2_186590d99475row0_col12 {\n",
       "            background-color:  #3b4cc0;\n",
       "            color:  #f1f1f1;\n",
       "        }    #T_f4ae3450_8b1a_11ea_acc2_186590d99475row1_col0 {\n",
       "            background-color:  #3b4cc0;\n",
       "            color:  #f1f1f1;\n",
       "        }    #T_f4ae3450_8b1a_11ea_acc2_186590d99475row1_col1 {\n",
       "            background-color:  #3b4cc0;\n",
       "            color:  #f1f1f1;\n",
       "        }    #T_f4ae3450_8b1a_11ea_acc2_186590d99475row1_col2 {\n",
       "            background-color:  #3b4cc0;\n",
       "            color:  #f1f1f1;\n",
       "        }    #T_f4ae3450_8b1a_11ea_acc2_186590d99475row1_col3 {\n",
       "            background-color:  #3b4cc0;\n",
       "            color:  #f1f1f1;\n",
       "        }    #T_f4ae3450_8b1a_11ea_acc2_186590d99475row1_col4 {\n",
       "            background-color:  #3b4cc0;\n",
       "            color:  #f1f1f1;\n",
       "        }    #T_f4ae3450_8b1a_11ea_acc2_186590d99475row1_col5 {\n",
       "            background-color:  #3b4cc0;\n",
       "            color:  #f1f1f1;\n",
       "        }    #T_f4ae3450_8b1a_11ea_acc2_186590d99475row1_col6 {\n",
       "            background-color:  #3b4cc0;\n",
       "            color:  #f1f1f1;\n",
       "        }    #T_f4ae3450_8b1a_11ea_acc2_186590d99475row1_col7 {\n",
       "            background-color:  #3b4cc0;\n",
       "            color:  #f1f1f1;\n",
       "        }    #T_f4ae3450_8b1a_11ea_acc2_186590d99475row1_col8 {\n",
       "            background-color:  #3b4cc0;\n",
       "            color:  #f1f1f1;\n",
       "        }    #T_f4ae3450_8b1a_11ea_acc2_186590d99475row1_col9 {\n",
       "            background-color:  #3b4cc0;\n",
       "            color:  #f1f1f1;\n",
       "        }    #T_f4ae3450_8b1a_11ea_acc2_186590d99475row1_col10 {\n",
       "            background-color:  #3b4cc0;\n",
       "            color:  #f1f1f1;\n",
       "        }    #T_f4ae3450_8b1a_11ea_acc2_186590d99475row1_col11 {\n",
       "            background-color:  #3b4cc0;\n",
       "            color:  #f1f1f1;\n",
       "        }    #T_f4ae3450_8b1a_11ea_acc2_186590d99475row1_col12 {\n",
       "            background-color:  #3b4cc0;\n",
       "            color:  #f1f1f1;\n",
       "        }    #T_f4ae3450_8b1a_11ea_acc2_186590d99475row2_col0 {\n",
       "            background-color:  #3b4cc0;\n",
       "            color:  #f1f1f1;\n",
       "        }    #T_f4ae3450_8b1a_11ea_acc2_186590d99475row2_col1 {\n",
       "            background-color:  #3b4cc0;\n",
       "            color:  #f1f1f1;\n",
       "        }    #T_f4ae3450_8b1a_11ea_acc2_186590d99475row2_col2 {\n",
       "            background-color:  #3b4cc0;\n",
       "            color:  #f1f1f1;\n",
       "        }    #T_f4ae3450_8b1a_11ea_acc2_186590d99475row2_col3 {\n",
       "            background-color:  #3b4cc0;\n",
       "            color:  #f1f1f1;\n",
       "        }    #T_f4ae3450_8b1a_11ea_acc2_186590d99475row2_col4 {\n",
       "            background-color:  #3b4cc0;\n",
       "            color:  #f1f1f1;\n",
       "        }    #T_f4ae3450_8b1a_11ea_acc2_186590d99475row2_col5 {\n",
       "            background-color:  #3b4cc0;\n",
       "            color:  #f1f1f1;\n",
       "        }    #T_f4ae3450_8b1a_11ea_acc2_186590d99475row2_col6 {\n",
       "            background-color:  #3b4cc0;\n",
       "            color:  #f1f1f1;\n",
       "        }    #T_f4ae3450_8b1a_11ea_acc2_186590d99475row2_col7 {\n",
       "            background-color:  #3b4cc0;\n",
       "            color:  #f1f1f1;\n",
       "        }    #T_f4ae3450_8b1a_11ea_acc2_186590d99475row2_col8 {\n",
       "            background-color:  #3b4cc0;\n",
       "            color:  #f1f1f1;\n",
       "        }    #T_f4ae3450_8b1a_11ea_acc2_186590d99475row2_col9 {\n",
       "            background-color:  #3b4cc0;\n",
       "            color:  #f1f1f1;\n",
       "        }    #T_f4ae3450_8b1a_11ea_acc2_186590d99475row2_col10 {\n",
       "            background-color:  #3b4cc0;\n",
       "            color:  #f1f1f1;\n",
       "        }    #T_f4ae3450_8b1a_11ea_acc2_186590d99475row2_col11 {\n",
       "            background-color:  #3b4cc0;\n",
       "            color:  #f1f1f1;\n",
       "        }    #T_f4ae3450_8b1a_11ea_acc2_186590d99475row2_col12 {\n",
       "            background-color:  #3b4cc0;\n",
       "            color:  #f1f1f1;\n",
       "        }    #T_f4ae3450_8b1a_11ea_acc2_186590d99475row3_col0 {\n",
       "            background-color:  #3b4cc0;\n",
       "            color:  #f1f1f1;\n",
       "        }    #T_f4ae3450_8b1a_11ea_acc2_186590d99475row3_col1 {\n",
       "            background-color:  #3b4cc0;\n",
       "            color:  #f1f1f1;\n",
       "        }    #T_f4ae3450_8b1a_11ea_acc2_186590d99475row3_col2 {\n",
       "            background-color:  #3b4cc0;\n",
       "            color:  #f1f1f1;\n",
       "        }    #T_f4ae3450_8b1a_11ea_acc2_186590d99475row3_col3 {\n",
       "            background-color:  #3b4cc0;\n",
       "            color:  #f1f1f1;\n",
       "        }    #T_f4ae3450_8b1a_11ea_acc2_186590d99475row3_col4 {\n",
       "            background-color:  #3b4cc0;\n",
       "            color:  #f1f1f1;\n",
       "        }    #T_f4ae3450_8b1a_11ea_acc2_186590d99475row3_col5 {\n",
       "            background-color:  #3b4cc0;\n",
       "            color:  #f1f1f1;\n",
       "        }    #T_f4ae3450_8b1a_11ea_acc2_186590d99475row3_col6 {\n",
       "            background-color:  #3b4cc0;\n",
       "            color:  #f1f1f1;\n",
       "        }    #T_f4ae3450_8b1a_11ea_acc2_186590d99475row3_col7 {\n",
       "            background-color:  #3b4cc0;\n",
       "            color:  #f1f1f1;\n",
       "        }    #T_f4ae3450_8b1a_11ea_acc2_186590d99475row3_col8 {\n",
       "            background-color:  #3b4cc0;\n",
       "            color:  #f1f1f1;\n",
       "        }    #T_f4ae3450_8b1a_11ea_acc2_186590d99475row3_col9 {\n",
       "            background-color:  #3b4cc0;\n",
       "            color:  #f1f1f1;\n",
       "        }    #T_f4ae3450_8b1a_11ea_acc2_186590d99475row3_col10 {\n",
       "            background-color:  #3b4cc0;\n",
       "            color:  #f1f1f1;\n",
       "        }    #T_f4ae3450_8b1a_11ea_acc2_186590d99475row3_col11 {\n",
       "            background-color:  #3b4cc0;\n",
       "            color:  #f1f1f1;\n",
       "        }    #T_f4ae3450_8b1a_11ea_acc2_186590d99475row3_col12 {\n",
       "            background-color:  #3b4cc0;\n",
       "            color:  #f1f1f1;\n",
       "        }    #T_f4ae3450_8b1a_11ea_acc2_186590d99475row4_col0 {\n",
       "            background-color:  #3b4cc0;\n",
       "            color:  #f1f1f1;\n",
       "        }    #T_f4ae3450_8b1a_11ea_acc2_186590d99475row4_col1 {\n",
       "            background-color:  #3b4cc0;\n",
       "            color:  #f1f1f1;\n",
       "        }    #T_f4ae3450_8b1a_11ea_acc2_186590d99475row4_col2 {\n",
       "            background-color:  #3b4cc0;\n",
       "            color:  #f1f1f1;\n",
       "        }    #T_f4ae3450_8b1a_11ea_acc2_186590d99475row4_col3 {\n",
       "            background-color:  #3b4cc0;\n",
       "            color:  #f1f1f1;\n",
       "        }    #T_f4ae3450_8b1a_11ea_acc2_186590d99475row4_col4 {\n",
       "            background-color:  #3b4cc0;\n",
       "            color:  #f1f1f1;\n",
       "        }    #T_f4ae3450_8b1a_11ea_acc2_186590d99475row4_col5 {\n",
       "            background-color:  #3b4cc0;\n",
       "            color:  #f1f1f1;\n",
       "        }    #T_f4ae3450_8b1a_11ea_acc2_186590d99475row4_col6 {\n",
       "            background-color:  #3b4cc0;\n",
       "            color:  #f1f1f1;\n",
       "        }    #T_f4ae3450_8b1a_11ea_acc2_186590d99475row4_col7 {\n",
       "            background-color:  #3b4cc0;\n",
       "            color:  #f1f1f1;\n",
       "        }    #T_f4ae3450_8b1a_11ea_acc2_186590d99475row4_col8 {\n",
       "            background-color:  #3b4cc0;\n",
       "            color:  #f1f1f1;\n",
       "        }    #T_f4ae3450_8b1a_11ea_acc2_186590d99475row4_col9 {\n",
       "            background-color:  #3b4cc0;\n",
       "            color:  #f1f1f1;\n",
       "        }    #T_f4ae3450_8b1a_11ea_acc2_186590d99475row4_col10 {\n",
       "            background-color:  #3b4cc0;\n",
       "            color:  #f1f1f1;\n",
       "        }    #T_f4ae3450_8b1a_11ea_acc2_186590d99475row4_col11 {\n",
       "            background-color:  #3b4cc0;\n",
       "            color:  #f1f1f1;\n",
       "        }    #T_f4ae3450_8b1a_11ea_acc2_186590d99475row4_col12 {\n",
       "            background-color:  #3b4cc0;\n",
       "            color:  #f1f1f1;\n",
       "        }    #T_f4ae3450_8b1a_11ea_acc2_186590d99475row5_col0 {\n",
       "            background-color:  #3b4cc0;\n",
       "            color:  #f1f1f1;\n",
       "        }    #T_f4ae3450_8b1a_11ea_acc2_186590d99475row5_col1 {\n",
       "            background-color:  #3b4cc0;\n",
       "            color:  #f1f1f1;\n",
       "        }    #T_f4ae3450_8b1a_11ea_acc2_186590d99475row5_col2 {\n",
       "            background-color:  #3b4cc0;\n",
       "            color:  #f1f1f1;\n",
       "        }    #T_f4ae3450_8b1a_11ea_acc2_186590d99475row5_col3 {\n",
       "            background-color:  #3b4cc0;\n",
       "            color:  #f1f1f1;\n",
       "        }    #T_f4ae3450_8b1a_11ea_acc2_186590d99475row5_col4 {\n",
       "            background-color:  #3b4cc0;\n",
       "            color:  #f1f1f1;\n",
       "        }    #T_f4ae3450_8b1a_11ea_acc2_186590d99475row5_col5 {\n",
       "            background-color:  #3b4cc0;\n",
       "            color:  #f1f1f1;\n",
       "        }    #T_f4ae3450_8b1a_11ea_acc2_186590d99475row5_col6 {\n",
       "            background-color:  #3b4cc0;\n",
       "            color:  #f1f1f1;\n",
       "        }    #T_f4ae3450_8b1a_11ea_acc2_186590d99475row5_col7 {\n",
       "            background-color:  #3b4cc0;\n",
       "            color:  #f1f1f1;\n",
       "        }    #T_f4ae3450_8b1a_11ea_acc2_186590d99475row5_col8 {\n",
       "            background-color:  #3b4cc0;\n",
       "            color:  #f1f1f1;\n",
       "        }    #T_f4ae3450_8b1a_11ea_acc2_186590d99475row5_col9 {\n",
       "            background-color:  #3b4cc0;\n",
       "            color:  #f1f1f1;\n",
       "        }    #T_f4ae3450_8b1a_11ea_acc2_186590d99475row5_col10 {\n",
       "            background-color:  #3b4cc0;\n",
       "            color:  #f1f1f1;\n",
       "        }    #T_f4ae3450_8b1a_11ea_acc2_186590d99475row5_col11 {\n",
       "            background-color:  #3b4cc0;\n",
       "            color:  #f1f1f1;\n",
       "        }    #T_f4ae3450_8b1a_11ea_acc2_186590d99475row5_col12 {\n",
       "            background-color:  #3b4cc0;\n",
       "            color:  #f1f1f1;\n",
       "        }    #T_f4ae3450_8b1a_11ea_acc2_186590d99475row6_col0 {\n",
       "            background-color:  #3b4cc0;\n",
       "            color:  #f1f1f1;\n",
       "        }    #T_f4ae3450_8b1a_11ea_acc2_186590d99475row6_col1 {\n",
       "            background-color:  #3b4cc0;\n",
       "            color:  #f1f1f1;\n",
       "        }    #T_f4ae3450_8b1a_11ea_acc2_186590d99475row6_col2 {\n",
       "            background-color:  #3b4cc0;\n",
       "            color:  #f1f1f1;\n",
       "        }    #T_f4ae3450_8b1a_11ea_acc2_186590d99475row6_col3 {\n",
       "            background-color:  #3b4cc0;\n",
       "            color:  #f1f1f1;\n",
       "        }    #T_f4ae3450_8b1a_11ea_acc2_186590d99475row6_col4 {\n",
       "            background-color:  #3b4cc0;\n",
       "            color:  #f1f1f1;\n",
       "        }    #T_f4ae3450_8b1a_11ea_acc2_186590d99475row6_col5 {\n",
       "            background-color:  #3b4cc0;\n",
       "            color:  #f1f1f1;\n",
       "        }    #T_f4ae3450_8b1a_11ea_acc2_186590d99475row6_col6 {\n",
       "            background-color:  #3b4cc0;\n",
       "            color:  #f1f1f1;\n",
       "        }    #T_f4ae3450_8b1a_11ea_acc2_186590d99475row6_col7 {\n",
       "            background-color:  #3b4cc0;\n",
       "            color:  #f1f1f1;\n",
       "        }    #T_f4ae3450_8b1a_11ea_acc2_186590d99475row6_col8 {\n",
       "            background-color:  #3b4cc0;\n",
       "            color:  #f1f1f1;\n",
       "        }    #T_f4ae3450_8b1a_11ea_acc2_186590d99475row6_col9 {\n",
       "            background-color:  #3b4cc0;\n",
       "            color:  #f1f1f1;\n",
       "        }    #T_f4ae3450_8b1a_11ea_acc2_186590d99475row6_col10 {\n",
       "            background-color:  #3b4cc0;\n",
       "            color:  #f1f1f1;\n",
       "        }    #T_f4ae3450_8b1a_11ea_acc2_186590d99475row6_col11 {\n",
       "            background-color:  #3b4cc0;\n",
       "            color:  #f1f1f1;\n",
       "        }    #T_f4ae3450_8b1a_11ea_acc2_186590d99475row6_col12 {\n",
       "            background-color:  #3b4cc0;\n",
       "            color:  #f1f1f1;\n",
       "        }    #T_f4ae3450_8b1a_11ea_acc2_186590d99475row7_col0 {\n",
       "            background-color:  #3b4cc0;\n",
       "            color:  #f1f1f1;\n",
       "        }    #T_f4ae3450_8b1a_11ea_acc2_186590d99475row7_col1 {\n",
       "            background-color:  #3b4cc0;\n",
       "            color:  #f1f1f1;\n",
       "        }    #T_f4ae3450_8b1a_11ea_acc2_186590d99475row7_col2 {\n",
       "            background-color:  #3b4cc0;\n",
       "            color:  #f1f1f1;\n",
       "        }    #T_f4ae3450_8b1a_11ea_acc2_186590d99475row7_col3 {\n",
       "            background-color:  #3b4cc0;\n",
       "            color:  #f1f1f1;\n",
       "        }    #T_f4ae3450_8b1a_11ea_acc2_186590d99475row7_col4 {\n",
       "            background-color:  #3b4cc0;\n",
       "            color:  #f1f1f1;\n",
       "        }    #T_f4ae3450_8b1a_11ea_acc2_186590d99475row7_col5 {\n",
       "            background-color:  #3b4cc0;\n",
       "            color:  #f1f1f1;\n",
       "        }    #T_f4ae3450_8b1a_11ea_acc2_186590d99475row7_col6 {\n",
       "            background-color:  #3b4cc0;\n",
       "            color:  #f1f1f1;\n",
       "        }    #T_f4ae3450_8b1a_11ea_acc2_186590d99475row7_col7 {\n",
       "            background-color:  #3b4cc0;\n",
       "            color:  #f1f1f1;\n",
       "        }    #T_f4ae3450_8b1a_11ea_acc2_186590d99475row7_col8 {\n",
       "            background-color:  #3b4cc0;\n",
       "            color:  #f1f1f1;\n",
       "        }    #T_f4ae3450_8b1a_11ea_acc2_186590d99475row7_col9 {\n",
       "            background-color:  #3b4cc0;\n",
       "            color:  #f1f1f1;\n",
       "        }    #T_f4ae3450_8b1a_11ea_acc2_186590d99475row7_col10 {\n",
       "            background-color:  #3b4cc0;\n",
       "            color:  #f1f1f1;\n",
       "        }    #T_f4ae3450_8b1a_11ea_acc2_186590d99475row7_col11 {\n",
       "            background-color:  #3b4cc0;\n",
       "            color:  #f1f1f1;\n",
       "        }    #T_f4ae3450_8b1a_11ea_acc2_186590d99475row7_col12 {\n",
       "            background-color:  #3b4cc0;\n",
       "            color:  #f1f1f1;\n",
       "        }    #T_f4ae3450_8b1a_11ea_acc2_186590d99475row8_col0 {\n",
       "            background-color:  #3b4cc0;\n",
       "            color:  #f1f1f1;\n",
       "        }    #T_f4ae3450_8b1a_11ea_acc2_186590d99475row8_col1 {\n",
       "            background-color:  #3b4cc0;\n",
       "            color:  #f1f1f1;\n",
       "        }    #T_f4ae3450_8b1a_11ea_acc2_186590d99475row8_col2 {\n",
       "            background-color:  #3b4cc0;\n",
       "            color:  #f1f1f1;\n",
       "        }    #T_f4ae3450_8b1a_11ea_acc2_186590d99475row8_col3 {\n",
       "            background-color:  #3b4cc0;\n",
       "            color:  #f1f1f1;\n",
       "        }    #T_f4ae3450_8b1a_11ea_acc2_186590d99475row8_col4 {\n",
       "            background-color:  #3b4cc0;\n",
       "            color:  #f1f1f1;\n",
       "        }    #T_f4ae3450_8b1a_11ea_acc2_186590d99475row8_col5 {\n",
       "            background-color:  #3b4cc0;\n",
       "            color:  #f1f1f1;\n",
       "        }    #T_f4ae3450_8b1a_11ea_acc2_186590d99475row8_col6 {\n",
       "            background-color:  #3b4cc0;\n",
       "            color:  #f1f1f1;\n",
       "        }    #T_f4ae3450_8b1a_11ea_acc2_186590d99475row8_col7 {\n",
       "            background-color:  #3b4cc0;\n",
       "            color:  #f1f1f1;\n",
       "        }    #T_f4ae3450_8b1a_11ea_acc2_186590d99475row8_col8 {\n",
       "            background-color:  #3b4cc0;\n",
       "            color:  #f1f1f1;\n",
       "        }    #T_f4ae3450_8b1a_11ea_acc2_186590d99475row8_col9 {\n",
       "            background-color:  #3b4cc0;\n",
       "            color:  #f1f1f1;\n",
       "        }    #T_f4ae3450_8b1a_11ea_acc2_186590d99475row8_col10 {\n",
       "            background-color:  #3b4cc0;\n",
       "            color:  #f1f1f1;\n",
       "        }    #T_f4ae3450_8b1a_11ea_acc2_186590d99475row8_col11 {\n",
       "            background-color:  #3b4cc0;\n",
       "            color:  #f1f1f1;\n",
       "        }    #T_f4ae3450_8b1a_11ea_acc2_186590d99475row8_col12 {\n",
       "            background-color:  #3b4cc0;\n",
       "            color:  #f1f1f1;\n",
       "        }    #T_f4ae3450_8b1a_11ea_acc2_186590d99475row9_col0 {\n",
       "            background-color:  #3b4cc0;\n",
       "            color:  #f1f1f1;\n",
       "        }    #T_f4ae3450_8b1a_11ea_acc2_186590d99475row9_col1 {\n",
       "            background-color:  #3b4cc0;\n",
       "            color:  #f1f1f1;\n",
       "        }    #T_f4ae3450_8b1a_11ea_acc2_186590d99475row9_col2 {\n",
       "            background-color:  #3b4cc0;\n",
       "            color:  #f1f1f1;\n",
       "        }    #T_f4ae3450_8b1a_11ea_acc2_186590d99475row9_col3 {\n",
       "            background-color:  #3b4cc0;\n",
       "            color:  #f1f1f1;\n",
       "        }    #T_f4ae3450_8b1a_11ea_acc2_186590d99475row9_col4 {\n",
       "            background-color:  #3b4cc0;\n",
       "            color:  #f1f1f1;\n",
       "        }    #T_f4ae3450_8b1a_11ea_acc2_186590d99475row9_col5 {\n",
       "            background-color:  #3b4cc0;\n",
       "            color:  #f1f1f1;\n",
       "        }    #T_f4ae3450_8b1a_11ea_acc2_186590d99475row9_col6 {\n",
       "            background-color:  #3b4cc0;\n",
       "            color:  #f1f1f1;\n",
       "        }    #T_f4ae3450_8b1a_11ea_acc2_186590d99475row9_col7 {\n",
       "            background-color:  #3b4cc0;\n",
       "            color:  #f1f1f1;\n",
       "        }    #T_f4ae3450_8b1a_11ea_acc2_186590d99475row9_col8 {\n",
       "            background-color:  #3b4cc0;\n",
       "            color:  #f1f1f1;\n",
       "        }    #T_f4ae3450_8b1a_11ea_acc2_186590d99475row9_col9 {\n",
       "            background-color:  #3b4cc0;\n",
       "            color:  #f1f1f1;\n",
       "        }    #T_f4ae3450_8b1a_11ea_acc2_186590d99475row9_col10 {\n",
       "            background-color:  #3b4cc0;\n",
       "            color:  #f1f1f1;\n",
       "        }    #T_f4ae3450_8b1a_11ea_acc2_186590d99475row9_col11 {\n",
       "            background-color:  #3b4cc0;\n",
       "            color:  #f1f1f1;\n",
       "        }    #T_f4ae3450_8b1a_11ea_acc2_186590d99475row9_col12 {\n",
       "            background-color:  #3b4cc0;\n",
       "            color:  #f1f1f1;\n",
       "        }    #T_f4ae3450_8b1a_11ea_acc2_186590d99475row10_col0 {\n",
       "            background-color:  #3b4cc0;\n",
       "            color:  #f1f1f1;\n",
       "        }    #T_f4ae3450_8b1a_11ea_acc2_186590d99475row10_col1 {\n",
       "            background-color:  #3b4cc0;\n",
       "            color:  #f1f1f1;\n",
       "        }    #T_f4ae3450_8b1a_11ea_acc2_186590d99475row10_col2 {\n",
       "            background-color:  #3b4cc0;\n",
       "            color:  #f1f1f1;\n",
       "        }    #T_f4ae3450_8b1a_11ea_acc2_186590d99475row10_col3 {\n",
       "            background-color:  #3b4cc0;\n",
       "            color:  #f1f1f1;\n",
       "        }    #T_f4ae3450_8b1a_11ea_acc2_186590d99475row10_col4 {\n",
       "            background-color:  #3b4cc0;\n",
       "            color:  #f1f1f1;\n",
       "        }    #T_f4ae3450_8b1a_11ea_acc2_186590d99475row10_col5 {\n",
       "            background-color:  #3b4cc0;\n",
       "            color:  #f1f1f1;\n",
       "        }    #T_f4ae3450_8b1a_11ea_acc2_186590d99475row10_col6 {\n",
       "            background-color:  #3b4cc0;\n",
       "            color:  #f1f1f1;\n",
       "        }    #T_f4ae3450_8b1a_11ea_acc2_186590d99475row10_col7 {\n",
       "            background-color:  #3b4cc0;\n",
       "            color:  #f1f1f1;\n",
       "        }    #T_f4ae3450_8b1a_11ea_acc2_186590d99475row10_col8 {\n",
       "            background-color:  #3b4cc0;\n",
       "            color:  #f1f1f1;\n",
       "        }    #T_f4ae3450_8b1a_11ea_acc2_186590d99475row10_col9 {\n",
       "            background-color:  #3b4cc0;\n",
       "            color:  #f1f1f1;\n",
       "        }    #T_f4ae3450_8b1a_11ea_acc2_186590d99475row10_col10 {\n",
       "            background-color:  #3b4cc0;\n",
       "            color:  #f1f1f1;\n",
       "        }    #T_f4ae3450_8b1a_11ea_acc2_186590d99475row10_col11 {\n",
       "            background-color:  #3b4cc0;\n",
       "            color:  #f1f1f1;\n",
       "        }    #T_f4ae3450_8b1a_11ea_acc2_186590d99475row10_col12 {\n",
       "            background-color:  #3b4cc0;\n",
       "            color:  #f1f1f1;\n",
       "        }    #T_f4ae3450_8b1a_11ea_acc2_186590d99475row11_col0 {\n",
       "            background-color:  #3b4cc0;\n",
       "            color:  #f1f1f1;\n",
       "        }    #T_f4ae3450_8b1a_11ea_acc2_186590d99475row11_col1 {\n",
       "            background-color:  #3b4cc0;\n",
       "            color:  #f1f1f1;\n",
       "        }    #T_f4ae3450_8b1a_11ea_acc2_186590d99475row11_col2 {\n",
       "            background-color:  #3b4cc0;\n",
       "            color:  #f1f1f1;\n",
       "        }    #T_f4ae3450_8b1a_11ea_acc2_186590d99475row11_col3 {\n",
       "            background-color:  #3b4cc0;\n",
       "            color:  #f1f1f1;\n",
       "        }    #T_f4ae3450_8b1a_11ea_acc2_186590d99475row11_col4 {\n",
       "            background-color:  #3b4cc0;\n",
       "            color:  #f1f1f1;\n",
       "        }    #T_f4ae3450_8b1a_11ea_acc2_186590d99475row11_col5 {\n",
       "            background-color:  #3b4cc0;\n",
       "            color:  #f1f1f1;\n",
       "        }    #T_f4ae3450_8b1a_11ea_acc2_186590d99475row11_col6 {\n",
       "            background-color:  #3b4cc0;\n",
       "            color:  #f1f1f1;\n",
       "        }    #T_f4ae3450_8b1a_11ea_acc2_186590d99475row11_col7 {\n",
       "            background-color:  #3b4cc0;\n",
       "            color:  #f1f1f1;\n",
       "        }    #T_f4ae3450_8b1a_11ea_acc2_186590d99475row11_col8 {\n",
       "            background-color:  #3b4cc0;\n",
       "            color:  #f1f1f1;\n",
       "        }    #T_f4ae3450_8b1a_11ea_acc2_186590d99475row11_col9 {\n",
       "            background-color:  #3b4cc0;\n",
       "            color:  #f1f1f1;\n",
       "        }    #T_f4ae3450_8b1a_11ea_acc2_186590d99475row11_col10 {\n",
       "            background-color:  #3b4cc0;\n",
       "            color:  #f1f1f1;\n",
       "        }    #T_f4ae3450_8b1a_11ea_acc2_186590d99475row11_col11 {\n",
       "            background-color:  #3b4cc0;\n",
       "            color:  #f1f1f1;\n",
       "        }    #T_f4ae3450_8b1a_11ea_acc2_186590d99475row11_col12 {\n",
       "            background-color:  #3b4cc0;\n",
       "            color:  #f1f1f1;\n",
       "        }    #T_f4ae3450_8b1a_11ea_acc2_186590d99475row12_col0 {\n",
       "            background-color:  #3b4cc0;\n",
       "            color:  #f1f1f1;\n",
       "        }    #T_f4ae3450_8b1a_11ea_acc2_186590d99475row12_col1 {\n",
       "            background-color:  #3b4cc0;\n",
       "            color:  #f1f1f1;\n",
       "        }    #T_f4ae3450_8b1a_11ea_acc2_186590d99475row12_col2 {\n",
       "            background-color:  #3b4cc0;\n",
       "            color:  #f1f1f1;\n",
       "        }    #T_f4ae3450_8b1a_11ea_acc2_186590d99475row12_col3 {\n",
       "            background-color:  #3b4cc0;\n",
       "            color:  #f1f1f1;\n",
       "        }    #T_f4ae3450_8b1a_11ea_acc2_186590d99475row12_col4 {\n",
       "            background-color:  #3b4cc0;\n",
       "            color:  #f1f1f1;\n",
       "        }    #T_f4ae3450_8b1a_11ea_acc2_186590d99475row12_col5 {\n",
       "            background-color:  #3b4cc0;\n",
       "            color:  #f1f1f1;\n",
       "        }    #T_f4ae3450_8b1a_11ea_acc2_186590d99475row12_col6 {\n",
       "            background-color:  #3b4cc0;\n",
       "            color:  #f1f1f1;\n",
       "        }    #T_f4ae3450_8b1a_11ea_acc2_186590d99475row12_col7 {\n",
       "            background-color:  #3b4cc0;\n",
       "            color:  #f1f1f1;\n",
       "        }    #T_f4ae3450_8b1a_11ea_acc2_186590d99475row12_col8 {\n",
       "            background-color:  #3b4cc0;\n",
       "            color:  #f1f1f1;\n",
       "        }    #T_f4ae3450_8b1a_11ea_acc2_186590d99475row12_col9 {\n",
       "            background-color:  #3b4cc0;\n",
       "            color:  #f1f1f1;\n",
       "        }    #T_f4ae3450_8b1a_11ea_acc2_186590d99475row12_col10 {\n",
       "            background-color:  #3b4cc0;\n",
       "            color:  #f1f1f1;\n",
       "        }    #T_f4ae3450_8b1a_11ea_acc2_186590d99475row12_col11 {\n",
       "            background-color:  #3b4cc0;\n",
       "            color:  #f1f1f1;\n",
       "        }    #T_f4ae3450_8b1a_11ea_acc2_186590d99475row12_col12 {\n",
       "            background-color:  #3b4cc0;\n",
       "            color:  #f1f1f1;\n",
       "        }</style><table id=\"T_f4ae3450_8b1a_11ea_acc2_186590d99475\" ><thead>    <tr>        <th class=\"blank level0\" ></th>        <th class=\"col_heading level0 col0\" >Id</th>        <th class=\"col_heading level0 col1\" >BasePay</th>        <th class=\"col_heading level0 col2\" >OvertimePay</th>        <th class=\"col_heading level0 col3\" >OtherPay</th>        <th class=\"col_heading level0 col4\" >Benefits</th>        <th class=\"col_heading level0 col5\" >TotalPay</th>        <th class=\"col_heading level0 col6\" >TotalPayBenefits</th>        <th class=\"col_heading level0 col7\" >Year</th>        <th class=\"col_heading level0 col8\" >Notes</th>        <th class=\"col_heading level0 col9\" >Status</th>        <th class=\"col_heading level0 col10\" >Chief</th>        <th class=\"col_heading level0 col11\" >Fire</th>        <th class=\"col_heading level0 col12\" >Police</th>    </tr></thead><tbody>\n",
       "                <tr>\n",
       "                        <th id=\"T_f4ae3450_8b1a_11ea_acc2_186590d99475level0_row0\" class=\"row_heading level0 row0\" >Id</th>\n",
       "                        <td id=\"T_f4ae3450_8b1a_11ea_acc2_186590d99475row0_col0\" class=\"data row0 col0\" >1</td>\n",
       "                        <td id=\"T_f4ae3450_8b1a_11ea_acc2_186590d99475row0_col1\" class=\"data row0 col1\" >0.0100584</td>\n",
       "                        <td id=\"T_f4ae3450_8b1a_11ea_acc2_186590d99475row0_col2\" class=\"data row0 col2\" >-0.0336728</td>\n",
       "                        <td id=\"T_f4ae3450_8b1a_11ea_acc2_186590d99475row0_col3\" class=\"data row0 col3\" >-0.0378922</td>\n",
       "                        <td id=\"T_f4ae3450_8b1a_11ea_acc2_186590d99475row0_col4\" class=\"data row0 col4\" >-0.146138</td>\n",
       "                        <td id=\"T_f4ae3450_8b1a_11ea_acc2_186590d99475row0_col5\" class=\"data row0 col5\" >-0.0262271</td>\n",
       "                        <td id=\"T_f4ae3450_8b1a_11ea_acc2_186590d99475row0_col6\" class=\"data row0 col6\" >0.14436</td>\n",
       "                        <td id=\"T_f4ae3450_8b1a_11ea_acc2_186590d99475row0_col7\" class=\"data row0 col7\" >0.980736</td>\n",
       "                        <td id=\"T_f4ae3450_8b1a_11ea_acc2_186590d99475row0_col8\" class=\"data row0 col8\" >nan</td>\n",
       "                        <td id=\"T_f4ae3450_8b1a_11ea_acc2_186590d99475row0_col9\" class=\"data row0 col9\" >nan</td>\n",
       "                        <td id=\"T_f4ae3450_8b1a_11ea_acc2_186590d99475row0_col10\" class=\"data row0 col10\" >nan</td>\n",
       "                        <td id=\"T_f4ae3450_8b1a_11ea_acc2_186590d99475row0_col11\" class=\"data row0 col11\" >-0.0826654</td>\n",
       "                        <td id=\"T_f4ae3450_8b1a_11ea_acc2_186590d99475row0_col12\" class=\"data row0 col12\" >-0.0826654</td>\n",
       "            </tr>\n",
       "            <tr>\n",
       "                        <th id=\"T_f4ae3450_8b1a_11ea_acc2_186590d99475level0_row1\" class=\"row_heading level0 row1\" >BasePay</th>\n",
       "                        <td id=\"T_f4ae3450_8b1a_11ea_acc2_186590d99475row1_col0\" class=\"data row1 col0\" >0.0100584</td>\n",
       "                        <td id=\"T_f4ae3450_8b1a_11ea_acc2_186590d99475row1_col1\" class=\"data row1 col1\" >1</td>\n",
       "                        <td id=\"T_f4ae3450_8b1a_11ea_acc2_186590d99475row1_col2\" class=\"data row1 col2\" >0.146044</td>\n",
       "                        <td id=\"T_f4ae3450_8b1a_11ea_acc2_186590d99475row1_col3\" class=\"data row1 col3\" >-0.109649</td>\n",
       "                        <td id=\"T_f4ae3450_8b1a_11ea_acc2_186590d99475row1_col4\" class=\"data row1 col4\" >0.933726</td>\n",
       "                        <td id=\"T_f4ae3450_8b1a_11ea_acc2_186590d99475row1_col5\" class=\"data row1 col5\" >0.819168</td>\n",
       "                        <td id=\"T_f4ae3450_8b1a_11ea_acc2_186590d99475row1_col6\" class=\"data row1 col6\" >0.844418</td>\n",
       "                        <td id=\"T_f4ae3450_8b1a_11ea_acc2_186590d99475row1_col7\" class=\"data row1 col7\" >0.166894</td>\n",
       "                        <td id=\"T_f4ae3450_8b1a_11ea_acc2_186590d99475row1_col8\" class=\"data row1 col8\" >nan</td>\n",
       "                        <td id=\"T_f4ae3450_8b1a_11ea_acc2_186590d99475row1_col9\" class=\"data row1 col9\" >nan</td>\n",
       "                        <td id=\"T_f4ae3450_8b1a_11ea_acc2_186590d99475row1_col10\" class=\"data row1 col10\" >nan</td>\n",
       "                        <td id=\"T_f4ae3450_8b1a_11ea_acc2_186590d99475row1_col11\" class=\"data row1 col11\" >0.210971</td>\n",
       "                        <td id=\"T_f4ae3450_8b1a_11ea_acc2_186590d99475row1_col12\" class=\"data row1 col12\" >0.210971</td>\n",
       "            </tr>\n",
       "            <tr>\n",
       "                        <th id=\"T_f4ae3450_8b1a_11ea_acc2_186590d99475level0_row2\" class=\"row_heading level0 row2\" >OvertimePay</th>\n",
       "                        <td id=\"T_f4ae3450_8b1a_11ea_acc2_186590d99475row2_col0\" class=\"data row2 col0\" >-0.0336728</td>\n",
       "                        <td id=\"T_f4ae3450_8b1a_11ea_acc2_186590d99475row2_col1\" class=\"data row2 col1\" >0.146044</td>\n",
       "                        <td id=\"T_f4ae3450_8b1a_11ea_acc2_186590d99475row2_col2\" class=\"data row2 col2\" >1</td>\n",
       "                        <td id=\"T_f4ae3450_8b1a_11ea_acc2_186590d99475row2_col3\" class=\"data row2 col3\" >0.201817</td>\n",
       "                        <td id=\"T_f4ae3450_8b1a_11ea_acc2_186590d99475row2_col4\" class=\"data row2 col4\" >0.202203</td>\n",
       "                        <td id=\"T_f4ae3450_8b1a_11ea_acc2_186590d99475row2_col5\" class=\"data row2 col5\" >0.5188</td>\n",
       "                        <td id=\"T_f4ae3450_8b1a_11ea_acc2_186590d99475row2_col6\" class=\"data row2 col6\" >0.47216</td>\n",
       "                        <td id=\"T_f4ae3450_8b1a_11ea_acc2_186590d99475row2_col7\" class=\"data row2 col7\" >0.0275259</td>\n",
       "                        <td id=\"T_f4ae3450_8b1a_11ea_acc2_186590d99475row2_col8\" class=\"data row2 col8\" >nan</td>\n",
       "                        <td id=\"T_f4ae3450_8b1a_11ea_acc2_186590d99475row2_col9\" class=\"data row2 col9\" >nan</td>\n",
       "                        <td id=\"T_f4ae3450_8b1a_11ea_acc2_186590d99475row2_col10\" class=\"data row2 col10\" >nan</td>\n",
       "                        <td id=\"T_f4ae3450_8b1a_11ea_acc2_186590d99475row2_col11\" class=\"data row2 col11\" >0.708388</td>\n",
       "                        <td id=\"T_f4ae3450_8b1a_11ea_acc2_186590d99475row2_col12\" class=\"data row2 col12\" >0.708388</td>\n",
       "            </tr>\n",
       "            <tr>\n",
       "                        <th id=\"T_f4ae3450_8b1a_11ea_acc2_186590d99475level0_row3\" class=\"row_heading level0 row3\" >OtherPay</th>\n",
       "                        <td id=\"T_f4ae3450_8b1a_11ea_acc2_186590d99475row3_col0\" class=\"data row3 col0\" >-0.0378922</td>\n",
       "                        <td id=\"T_f4ae3450_8b1a_11ea_acc2_186590d99475row3_col1\" class=\"data row3 col1\" >-0.109649</td>\n",
       "                        <td id=\"T_f4ae3450_8b1a_11ea_acc2_186590d99475row3_col2\" class=\"data row3 col2\" >0.201817</td>\n",
       "                        <td id=\"T_f4ae3450_8b1a_11ea_acc2_186590d99475row3_col3\" class=\"data row3 col3\" >1</td>\n",
       "                        <td id=\"T_f4ae3450_8b1a_11ea_acc2_186590d99475row3_col4\" class=\"data row3 col4\" >-0.179588</td>\n",
       "                        <td id=\"T_f4ae3450_8b1a_11ea_acc2_186590d99475row3_col5\" class=\"data row3 col5\" >0.382498</td>\n",
       "                        <td id=\"T_f4ae3450_8b1a_11ea_acc2_186590d99475row3_col6\" class=\"data row3 col6\" >0.295671</td>\n",
       "                        <td id=\"T_f4ae3450_8b1a_11ea_acc2_186590d99475row3_col7\" class=\"data row3 col7\" >0.0016127</td>\n",
       "                        <td id=\"T_f4ae3450_8b1a_11ea_acc2_186590d99475row3_col8\" class=\"data row3 col8\" >nan</td>\n",
       "                        <td id=\"T_f4ae3450_8b1a_11ea_acc2_186590d99475row3_col9\" class=\"data row3 col9\" >nan</td>\n",
       "                        <td id=\"T_f4ae3450_8b1a_11ea_acc2_186590d99475row3_col10\" class=\"data row3 col10\" >nan</td>\n",
       "                        <td id=\"T_f4ae3450_8b1a_11ea_acc2_186590d99475row3_col11\" class=\"data row3 col11\" >0.276173</td>\n",
       "                        <td id=\"T_f4ae3450_8b1a_11ea_acc2_186590d99475row3_col12\" class=\"data row3 col12\" >0.276173</td>\n",
       "            </tr>\n",
       "            <tr>\n",
       "                        <th id=\"T_f4ae3450_8b1a_11ea_acc2_186590d99475level0_row4\" class=\"row_heading level0 row4\" >Benefits</th>\n",
       "                        <td id=\"T_f4ae3450_8b1a_11ea_acc2_186590d99475row4_col0\" class=\"data row4 col0\" >-0.146138</td>\n",
       "                        <td id=\"T_f4ae3450_8b1a_11ea_acc2_186590d99475row4_col1\" class=\"data row4 col1\" >0.933726</td>\n",
       "                        <td id=\"T_f4ae3450_8b1a_11ea_acc2_186590d99475row4_col2\" class=\"data row4 col2\" >0.202203</td>\n",
       "                        <td id=\"T_f4ae3450_8b1a_11ea_acc2_186590d99475row4_col3\" class=\"data row4 col3\" >-0.179588</td>\n",
       "                        <td id=\"T_f4ae3450_8b1a_11ea_acc2_186590d99475row4_col4\" class=\"data row4 col4\" >1</td>\n",
       "                        <td id=\"T_f4ae3450_8b1a_11ea_acc2_186590d99475row4_col5\" class=\"data row4 col5\" >0.765552</td>\n",
       "                        <td id=\"T_f4ae3450_8b1a_11ea_acc2_186590d99475row4_col6\" class=\"data row4 col6\" >0.83968</td>\n",
       "                        <td id=\"T_f4ae3450_8b1a_11ea_acc2_186590d99475row4_col7\" class=\"data row4 col7\" >0.0800553</td>\n",
       "                        <td id=\"T_f4ae3450_8b1a_11ea_acc2_186590d99475row4_col8\" class=\"data row4 col8\" >nan</td>\n",
       "                        <td id=\"T_f4ae3450_8b1a_11ea_acc2_186590d99475row4_col9\" class=\"data row4 col9\" >nan</td>\n",
       "                        <td id=\"T_f4ae3450_8b1a_11ea_acc2_186590d99475row4_col10\" class=\"data row4 col10\" >nan</td>\n",
       "                        <td id=\"T_f4ae3450_8b1a_11ea_acc2_186590d99475row4_col11\" class=\"data row4 col11\" >0.20634</td>\n",
       "                        <td id=\"T_f4ae3450_8b1a_11ea_acc2_186590d99475row4_col12\" class=\"data row4 col12\" >0.20634</td>\n",
       "            </tr>\n",
       "            <tr>\n",
       "                        <th id=\"T_f4ae3450_8b1a_11ea_acc2_186590d99475level0_row5\" class=\"row_heading level0 row5\" >TotalPay</th>\n",
       "                        <td id=\"T_f4ae3450_8b1a_11ea_acc2_186590d99475row5_col0\" class=\"data row5 col0\" >-0.0262271</td>\n",
       "                        <td id=\"T_f4ae3450_8b1a_11ea_acc2_186590d99475row5_col1\" class=\"data row5 col1\" >0.819168</td>\n",
       "                        <td id=\"T_f4ae3450_8b1a_11ea_acc2_186590d99475row5_col2\" class=\"data row5 col2\" >0.5188</td>\n",
       "                        <td id=\"T_f4ae3450_8b1a_11ea_acc2_186590d99475row5_col3\" class=\"data row5 col3\" >0.382498</td>\n",
       "                        <td id=\"T_f4ae3450_8b1a_11ea_acc2_186590d99475row5_col4\" class=\"data row5 col4\" >0.765552</td>\n",
       "                        <td id=\"T_f4ae3450_8b1a_11ea_acc2_186590d99475row5_col5\" class=\"data row5 col5\" >1</td>\n",
       "                        <td id=\"T_f4ae3450_8b1a_11ea_acc2_186590d99475row5_col6\" class=\"data row5 col6\" >0.970012</td>\n",
       "                        <td id=\"T_f4ae3450_8b1a_11ea_acc2_186590d99475row5_col7\" class=\"data row5 col7\" >0.140553</td>\n",
       "                        <td id=\"T_f4ae3450_8b1a_11ea_acc2_186590d99475row5_col8\" class=\"data row5 col8\" >nan</td>\n",
       "                        <td id=\"T_f4ae3450_8b1a_11ea_acc2_186590d99475row5_col9\" class=\"data row5 col9\" >nan</td>\n",
       "                        <td id=\"T_f4ae3450_8b1a_11ea_acc2_186590d99475row5_col10\" class=\"data row5 col10\" >nan</td>\n",
       "                        <td id=\"T_f4ae3450_8b1a_11ea_acc2_186590d99475row5_col11\" class=\"data row5 col11\" >0.500137</td>\n",
       "                        <td id=\"T_f4ae3450_8b1a_11ea_acc2_186590d99475row5_col12\" class=\"data row5 col12\" >0.500137</td>\n",
       "            </tr>\n",
       "            <tr>\n",
       "                        <th id=\"T_f4ae3450_8b1a_11ea_acc2_186590d99475level0_row6\" class=\"row_heading level0 row6\" >TotalPayBenefits</th>\n",
       "                        <td id=\"T_f4ae3450_8b1a_11ea_acc2_186590d99475row6_col0\" class=\"data row6 col0\" >0.14436</td>\n",
       "                        <td id=\"T_f4ae3450_8b1a_11ea_acc2_186590d99475row6_col1\" class=\"data row6 col1\" >0.844418</td>\n",
       "                        <td id=\"T_f4ae3450_8b1a_11ea_acc2_186590d99475row6_col2\" class=\"data row6 col2\" >0.47216</td>\n",
       "                        <td id=\"T_f4ae3450_8b1a_11ea_acc2_186590d99475row6_col3\" class=\"data row6 col3\" >0.295671</td>\n",
       "                        <td id=\"T_f4ae3450_8b1a_11ea_acc2_186590d99475row6_col4\" class=\"data row6 col4\" >0.83968</td>\n",
       "                        <td id=\"T_f4ae3450_8b1a_11ea_acc2_186590d99475row6_col5\" class=\"data row6 col5\" >0.970012</td>\n",
       "                        <td id=\"T_f4ae3450_8b1a_11ea_acc2_186590d99475row6_col6\" class=\"data row6 col6\" >1</td>\n",
       "                        <td id=\"T_f4ae3450_8b1a_11ea_acc2_186590d99475row6_col7\" class=\"data row6 col7\" >0.309699</td>\n",
       "                        <td id=\"T_f4ae3450_8b1a_11ea_acc2_186590d99475row6_col8\" class=\"data row6 col8\" >nan</td>\n",
       "                        <td id=\"T_f4ae3450_8b1a_11ea_acc2_186590d99475row6_col9\" class=\"data row6 col9\" >nan</td>\n",
       "                        <td id=\"T_f4ae3450_8b1a_11ea_acc2_186590d99475row6_col10\" class=\"data row6 col10\" >nan</td>\n",
       "                        <td id=\"T_f4ae3450_8b1a_11ea_acc2_186590d99475row6_col11\" class=\"data row6 col11\" >0.442725</td>\n",
       "                        <td id=\"T_f4ae3450_8b1a_11ea_acc2_186590d99475row6_col12\" class=\"data row6 col12\" >0.442725</td>\n",
       "            </tr>\n",
       "            <tr>\n",
       "                        <th id=\"T_f4ae3450_8b1a_11ea_acc2_186590d99475level0_row7\" class=\"row_heading level0 row7\" >Year</th>\n",
       "                        <td id=\"T_f4ae3450_8b1a_11ea_acc2_186590d99475row7_col0\" class=\"data row7 col0\" >0.980736</td>\n",
       "                        <td id=\"T_f4ae3450_8b1a_11ea_acc2_186590d99475row7_col1\" class=\"data row7 col1\" >0.166894</td>\n",
       "                        <td id=\"T_f4ae3450_8b1a_11ea_acc2_186590d99475row7_col2\" class=\"data row7 col2\" >0.0275259</td>\n",
       "                        <td id=\"T_f4ae3450_8b1a_11ea_acc2_186590d99475row7_col3\" class=\"data row7 col3\" >0.0016127</td>\n",
       "                        <td id=\"T_f4ae3450_8b1a_11ea_acc2_186590d99475row7_col4\" class=\"data row7 col4\" >0.0800553</td>\n",
       "                        <td id=\"T_f4ae3450_8b1a_11ea_acc2_186590d99475row7_col5\" class=\"data row7 col5\" >0.140553</td>\n",
       "                        <td id=\"T_f4ae3450_8b1a_11ea_acc2_186590d99475row7_col6\" class=\"data row7 col6\" >0.309699</td>\n",
       "                        <td id=\"T_f4ae3450_8b1a_11ea_acc2_186590d99475row7_col7\" class=\"data row7 col7\" >1</td>\n",
       "                        <td id=\"T_f4ae3450_8b1a_11ea_acc2_186590d99475row7_col8\" class=\"data row7 col8\" >nan</td>\n",
       "                        <td id=\"T_f4ae3450_8b1a_11ea_acc2_186590d99475row7_col9\" class=\"data row7 col9\" >nan</td>\n",
       "                        <td id=\"T_f4ae3450_8b1a_11ea_acc2_186590d99475row7_col10\" class=\"data row7 col10\" >nan</td>\n",
       "                        <td id=\"T_f4ae3450_8b1a_11ea_acc2_186590d99475row7_col11\" class=\"data row7 col11\" >-0.0210783</td>\n",
       "                        <td id=\"T_f4ae3450_8b1a_11ea_acc2_186590d99475row7_col12\" class=\"data row7 col12\" >-0.0210783</td>\n",
       "            </tr>\n",
       "            <tr>\n",
       "                        <th id=\"T_f4ae3450_8b1a_11ea_acc2_186590d99475level0_row8\" class=\"row_heading level0 row8\" >Notes</th>\n",
       "                        <td id=\"T_f4ae3450_8b1a_11ea_acc2_186590d99475row8_col0\" class=\"data row8 col0\" >nan</td>\n",
       "                        <td id=\"T_f4ae3450_8b1a_11ea_acc2_186590d99475row8_col1\" class=\"data row8 col1\" >nan</td>\n",
       "                        <td id=\"T_f4ae3450_8b1a_11ea_acc2_186590d99475row8_col2\" class=\"data row8 col2\" >nan</td>\n",
       "                        <td id=\"T_f4ae3450_8b1a_11ea_acc2_186590d99475row8_col3\" class=\"data row8 col3\" >nan</td>\n",
       "                        <td id=\"T_f4ae3450_8b1a_11ea_acc2_186590d99475row8_col4\" class=\"data row8 col4\" >nan</td>\n",
       "                        <td id=\"T_f4ae3450_8b1a_11ea_acc2_186590d99475row8_col5\" class=\"data row8 col5\" >nan</td>\n",
       "                        <td id=\"T_f4ae3450_8b1a_11ea_acc2_186590d99475row8_col6\" class=\"data row8 col6\" >nan</td>\n",
       "                        <td id=\"T_f4ae3450_8b1a_11ea_acc2_186590d99475row8_col7\" class=\"data row8 col7\" >nan</td>\n",
       "                        <td id=\"T_f4ae3450_8b1a_11ea_acc2_186590d99475row8_col8\" class=\"data row8 col8\" >nan</td>\n",
       "                        <td id=\"T_f4ae3450_8b1a_11ea_acc2_186590d99475row8_col9\" class=\"data row8 col9\" >nan</td>\n",
       "                        <td id=\"T_f4ae3450_8b1a_11ea_acc2_186590d99475row8_col10\" class=\"data row8 col10\" >nan</td>\n",
       "                        <td id=\"T_f4ae3450_8b1a_11ea_acc2_186590d99475row8_col11\" class=\"data row8 col11\" >nan</td>\n",
       "                        <td id=\"T_f4ae3450_8b1a_11ea_acc2_186590d99475row8_col12\" class=\"data row8 col12\" >nan</td>\n",
       "            </tr>\n",
       "            <tr>\n",
       "                        <th id=\"T_f4ae3450_8b1a_11ea_acc2_186590d99475level0_row9\" class=\"row_heading level0 row9\" >Status</th>\n",
       "                        <td id=\"T_f4ae3450_8b1a_11ea_acc2_186590d99475row9_col0\" class=\"data row9 col0\" >nan</td>\n",
       "                        <td id=\"T_f4ae3450_8b1a_11ea_acc2_186590d99475row9_col1\" class=\"data row9 col1\" >nan</td>\n",
       "                        <td id=\"T_f4ae3450_8b1a_11ea_acc2_186590d99475row9_col2\" class=\"data row9 col2\" >nan</td>\n",
       "                        <td id=\"T_f4ae3450_8b1a_11ea_acc2_186590d99475row9_col3\" class=\"data row9 col3\" >nan</td>\n",
       "                        <td id=\"T_f4ae3450_8b1a_11ea_acc2_186590d99475row9_col4\" class=\"data row9 col4\" >nan</td>\n",
       "                        <td id=\"T_f4ae3450_8b1a_11ea_acc2_186590d99475row9_col5\" class=\"data row9 col5\" >nan</td>\n",
       "                        <td id=\"T_f4ae3450_8b1a_11ea_acc2_186590d99475row9_col6\" class=\"data row9 col6\" >nan</td>\n",
       "                        <td id=\"T_f4ae3450_8b1a_11ea_acc2_186590d99475row9_col7\" class=\"data row9 col7\" >nan</td>\n",
       "                        <td id=\"T_f4ae3450_8b1a_11ea_acc2_186590d99475row9_col8\" class=\"data row9 col8\" >nan</td>\n",
       "                        <td id=\"T_f4ae3450_8b1a_11ea_acc2_186590d99475row9_col9\" class=\"data row9 col9\" >nan</td>\n",
       "                        <td id=\"T_f4ae3450_8b1a_11ea_acc2_186590d99475row9_col10\" class=\"data row9 col10\" >nan</td>\n",
       "                        <td id=\"T_f4ae3450_8b1a_11ea_acc2_186590d99475row9_col11\" class=\"data row9 col11\" >nan</td>\n",
       "                        <td id=\"T_f4ae3450_8b1a_11ea_acc2_186590d99475row9_col12\" class=\"data row9 col12\" >nan</td>\n",
       "            </tr>\n",
       "            <tr>\n",
       "                        <th id=\"T_f4ae3450_8b1a_11ea_acc2_186590d99475level0_row10\" class=\"row_heading level0 row10\" >Chief</th>\n",
       "                        <td id=\"T_f4ae3450_8b1a_11ea_acc2_186590d99475row10_col0\" class=\"data row10 col0\" >nan</td>\n",
       "                        <td id=\"T_f4ae3450_8b1a_11ea_acc2_186590d99475row10_col1\" class=\"data row10 col1\" >nan</td>\n",
       "                        <td id=\"T_f4ae3450_8b1a_11ea_acc2_186590d99475row10_col2\" class=\"data row10 col2\" >nan</td>\n",
       "                        <td id=\"T_f4ae3450_8b1a_11ea_acc2_186590d99475row10_col3\" class=\"data row10 col3\" >nan</td>\n",
       "                        <td id=\"T_f4ae3450_8b1a_11ea_acc2_186590d99475row10_col4\" class=\"data row10 col4\" >nan</td>\n",
       "                        <td id=\"T_f4ae3450_8b1a_11ea_acc2_186590d99475row10_col5\" class=\"data row10 col5\" >nan</td>\n",
       "                        <td id=\"T_f4ae3450_8b1a_11ea_acc2_186590d99475row10_col6\" class=\"data row10 col6\" >nan</td>\n",
       "                        <td id=\"T_f4ae3450_8b1a_11ea_acc2_186590d99475row10_col7\" class=\"data row10 col7\" >nan</td>\n",
       "                        <td id=\"T_f4ae3450_8b1a_11ea_acc2_186590d99475row10_col8\" class=\"data row10 col8\" >nan</td>\n",
       "                        <td id=\"T_f4ae3450_8b1a_11ea_acc2_186590d99475row10_col9\" class=\"data row10 col9\" >nan</td>\n",
       "                        <td id=\"T_f4ae3450_8b1a_11ea_acc2_186590d99475row10_col10\" class=\"data row10 col10\" >nan</td>\n",
       "                        <td id=\"T_f4ae3450_8b1a_11ea_acc2_186590d99475row10_col11\" class=\"data row10 col11\" >nan</td>\n",
       "                        <td id=\"T_f4ae3450_8b1a_11ea_acc2_186590d99475row10_col12\" class=\"data row10 col12\" >nan</td>\n",
       "            </tr>\n",
       "            <tr>\n",
       "                        <th id=\"T_f4ae3450_8b1a_11ea_acc2_186590d99475level0_row11\" class=\"row_heading level0 row11\" >Fire</th>\n",
       "                        <td id=\"T_f4ae3450_8b1a_11ea_acc2_186590d99475row11_col0\" class=\"data row11 col0\" >-0.0826654</td>\n",
       "                        <td id=\"T_f4ae3450_8b1a_11ea_acc2_186590d99475row11_col1\" class=\"data row11 col1\" >0.210971</td>\n",
       "                        <td id=\"T_f4ae3450_8b1a_11ea_acc2_186590d99475row11_col2\" class=\"data row11 col2\" >0.708388</td>\n",
       "                        <td id=\"T_f4ae3450_8b1a_11ea_acc2_186590d99475row11_col3\" class=\"data row11 col3\" >0.276173</td>\n",
       "                        <td id=\"T_f4ae3450_8b1a_11ea_acc2_186590d99475row11_col4\" class=\"data row11 col4\" >0.20634</td>\n",
       "                        <td id=\"T_f4ae3450_8b1a_11ea_acc2_186590d99475row11_col5\" class=\"data row11 col5\" >0.500137</td>\n",
       "                        <td id=\"T_f4ae3450_8b1a_11ea_acc2_186590d99475row11_col6\" class=\"data row11 col6\" >0.442725</td>\n",
       "                        <td id=\"T_f4ae3450_8b1a_11ea_acc2_186590d99475row11_col7\" class=\"data row11 col7\" >-0.0210783</td>\n",
       "                        <td id=\"T_f4ae3450_8b1a_11ea_acc2_186590d99475row11_col8\" class=\"data row11 col8\" >nan</td>\n",
       "                        <td id=\"T_f4ae3450_8b1a_11ea_acc2_186590d99475row11_col9\" class=\"data row11 col9\" >nan</td>\n",
       "                        <td id=\"T_f4ae3450_8b1a_11ea_acc2_186590d99475row11_col10\" class=\"data row11 col10\" >nan</td>\n",
       "                        <td id=\"T_f4ae3450_8b1a_11ea_acc2_186590d99475row11_col11\" class=\"data row11 col11\" >1</td>\n",
       "                        <td id=\"T_f4ae3450_8b1a_11ea_acc2_186590d99475row11_col12\" class=\"data row11 col12\" >1</td>\n",
       "            </tr>\n",
       "            <tr>\n",
       "                        <th id=\"T_f4ae3450_8b1a_11ea_acc2_186590d99475level0_row12\" class=\"row_heading level0 row12\" >Police</th>\n",
       "                        <td id=\"T_f4ae3450_8b1a_11ea_acc2_186590d99475row12_col0\" class=\"data row12 col0\" >-0.0826654</td>\n",
       "                        <td id=\"T_f4ae3450_8b1a_11ea_acc2_186590d99475row12_col1\" class=\"data row12 col1\" >0.210971</td>\n",
       "                        <td id=\"T_f4ae3450_8b1a_11ea_acc2_186590d99475row12_col2\" class=\"data row12 col2\" >0.708388</td>\n",
       "                        <td id=\"T_f4ae3450_8b1a_11ea_acc2_186590d99475row12_col3\" class=\"data row12 col3\" >0.276173</td>\n",
       "                        <td id=\"T_f4ae3450_8b1a_11ea_acc2_186590d99475row12_col4\" class=\"data row12 col4\" >0.20634</td>\n",
       "                        <td id=\"T_f4ae3450_8b1a_11ea_acc2_186590d99475row12_col5\" class=\"data row12 col5\" >0.500137</td>\n",
       "                        <td id=\"T_f4ae3450_8b1a_11ea_acc2_186590d99475row12_col6\" class=\"data row12 col6\" >0.442725</td>\n",
       "                        <td id=\"T_f4ae3450_8b1a_11ea_acc2_186590d99475row12_col7\" class=\"data row12 col7\" >-0.0210783</td>\n",
       "                        <td id=\"T_f4ae3450_8b1a_11ea_acc2_186590d99475row12_col8\" class=\"data row12 col8\" >nan</td>\n",
       "                        <td id=\"T_f4ae3450_8b1a_11ea_acc2_186590d99475row12_col9\" class=\"data row12 col9\" >nan</td>\n",
       "                        <td id=\"T_f4ae3450_8b1a_11ea_acc2_186590d99475row12_col10\" class=\"data row12 col10\" >nan</td>\n",
       "                        <td id=\"T_f4ae3450_8b1a_11ea_acc2_186590d99475row12_col11\" class=\"data row12 col11\" >1</td>\n",
       "                        <td id=\"T_f4ae3450_8b1a_11ea_acc2_186590d99475row12_col12\" class=\"data row12 col12\" >1</td>\n",
       "            </tr>\n",
       "    </tbody></table>"
      ],
      "text/plain": [
       "<pandas.io.formats.style.Styler at 0x1296abf10>"
      ]
     },
     "execution_count": 156,
     "metadata": {},
     "output_type": "execute_result"
    }
   ],
   "source": [
    "df[df['Chief']].corr().style.background_gradient(cmap='coolwarm')"
   ]
  },
  {
   "cell_type": "code",
   "execution_count": 171,
   "metadata": {},
   "outputs": [
    {
     "data": {
      "text/plain": [
       "<matplotlib.axes._subplots.AxesSubplot at 0x13008fb50>"
      ]
     },
     "execution_count": 171,
     "metadata": {},
     "output_type": "execute_result"
    },
    {
     "data": {
      "image/png": "[encoded data removed]",
      "text/plain": [
       "<Figure size 432x288 with 2 Axes>"
      ]
     },
     "metadata": {
      "needs_background": "light"
     },
     "output_type": "display_data"
    }
   ],
   "source": [
    "sns.heatmap(df[df['Chief']].corr(),cmap='coolwarm')"
   ]
  },
  {
   "cell_type": "code",
   "execution_count": null,
   "metadata": {},
   "outputs": [],
   "source": []
  }
 ],
 "metadata": {
  "kernelspec": {
   "display_name": "Python 3",
   "language": "python",
   "name": "python3"
  },
  "language_info": {
   "codemirror_mode": {
    "name": "ipython",
    "version": 3
   },
   "file_extension": ".py",
   "mimetype": "text/x-python",
   "name": "python",
   "nbconvert_exporter": "python",
   "pygments_lexer": "ipython3",
   "version": "3.7.7"
  }
 },
 "nbformat": 4,
 "nbformat_minor": 4
}
